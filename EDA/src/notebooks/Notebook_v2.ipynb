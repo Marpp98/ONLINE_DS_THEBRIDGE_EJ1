{
 "cells": [
  {
   "cell_type": "markdown",
   "id": "7be51932-23ff-4bd1-aec4-43ada6fde922",
   "metadata": {},
   "source": [
    "<img src=\"img/encabezado_EDA.png\" alt=\"encabezado\" width=\"1000\" height=\"600\"/>"
   ]
  },
  {
   "cell_type": "markdown",
   "id": "8c2b48a0-2b55-4695-af76-6fbc8b3e836c",
   "metadata": {},
   "source": [
    "# PASO 1: importación de librerías necesarias"
   ]
  },
  {
   "cell_type": "code",
   "execution_count": 1,
   "id": "cb2cebb4-c3e4-4e62-a8b0-50e4c34e2c5f",
   "metadata": {},
   "outputs": [],
   "source": [
    "import ast\n",
    "import matplotlib.pyplot as plt\n",
    "import numpy as np\n",
    "import pandas as pd\n",
    "import seaborn as sns"
   ]
  },
  {
   "cell_type": "markdown",
   "id": "1fd232f7-4a0b-40bc-9f14-692bfae214ab",
   "metadata": {},
   "source": [
    "# PASO 2: limpieza y tratamiento de datos"
   ]
  },
  {
   "cell_type": "code",
   "execution_count": 2,
   "id": "5d059e95-5bad-4bef-8630-6441af30216b",
   "metadata": {},
   "outputs": [],
   "source": [
    "# Convertimos la base de datos a dataframe\n",
    "df_goodreads = pd.read_csv(\"./data/goodreads_data.csv\")"
   ]
  },
  {
   "cell_type": "code",
   "execution_count": 3,
   "id": "b826a5c2-3586-480d-8b15-18406e2bcdd6",
   "metadata": {},
   "outputs": [
    {
     "name": "stdout",
     "output_type": "stream",
     "text": [
      "<class 'pandas.core.frame.DataFrame'>\n",
      "RangeIndex: 10000 entries, 0 to 9999\n",
      "Data columns (total 8 columns):\n",
      " #   Column       Non-Null Count  Dtype  \n",
      "---  ------       --------------  -----  \n",
      " 0   Unnamed: 0   10000 non-null  int64  \n",
      " 1   Book         10000 non-null  object \n",
      " 2   Author       10000 non-null  object \n",
      " 3   Description  9923 non-null   object \n",
      " 4   Genres       10000 non-null  object \n",
      " 5   Avg_Rating   10000 non-null  float64\n",
      " 6   Num_Ratings  10000 non-null  object \n",
      " 7   URL          10000 non-null  object \n",
      "dtypes: float64(1), int64(1), object(6)\n",
      "memory usage: 625.1+ KB\n"
     ]
    }
   ],
   "source": [
    "# Vemos la información del dataframe\n",
    "df_goodreads.info()"
   ]
  },
  {
   "cell_type": "markdown",
   "id": "de34fa4e-a1d7-4ba1-a67c-c526071ebb47",
   "metadata": {},
   "source": [
    "De esta primera lectura observamos que la columna \"Description\", que es la que presenta nulos, podemos borrarla ya que no aporta ninguna información necesaria a futuro.\n",
    "Del mismo modo podemos eliminar la columna URL."
   ]
  },
  {
   "cell_type": "code",
   "execution_count": 4,
   "id": "e457db95-55ad-466c-910b-28fe3a7cf8fd",
   "metadata": {},
   "outputs": [
    {
     "data": {
      "text/html": [
       "<div>\n",
       "<style scoped>\n",
       "    .dataframe tbody tr th:only-of-type {\n",
       "        vertical-align: middle;\n",
       "    }\n",
       "\n",
       "    .dataframe tbody tr th {\n",
       "        vertical-align: top;\n",
       "    }\n",
       "\n",
       "    .dataframe thead th {\n",
       "        text-align: right;\n",
       "    }\n",
       "</style>\n",
       "<table border=\"1\" class=\"dataframe\">\n",
       "  <thead>\n",
       "    <tr style=\"text-align: right;\">\n",
       "      <th></th>\n",
       "      <th>Unnamed: 0</th>\n",
       "      <th>Book</th>\n",
       "      <th>Author</th>\n",
       "      <th>Genres</th>\n",
       "      <th>Avg_Rating</th>\n",
       "      <th>Num_Ratings</th>\n",
       "    </tr>\n",
       "  </thead>\n",
       "  <tbody>\n",
       "    <tr>\n",
       "      <th>0</th>\n",
       "      <td>0</td>\n",
       "      <td>To Kill a Mockingbird</td>\n",
       "      <td>Harper Lee</td>\n",
       "      <td>['Classics', 'Fiction', 'Historical Fiction', ...</td>\n",
       "      <td>4.27</td>\n",
       "      <td>5,691,311</td>\n",
       "    </tr>\n",
       "    <tr>\n",
       "      <th>1</th>\n",
       "      <td>1</td>\n",
       "      <td>Harry Potter and the Philosopher’s Stone (Harr...</td>\n",
       "      <td>J.K. Rowling</td>\n",
       "      <td>['Fantasy', 'Fiction', 'Young Adult', 'Magic',...</td>\n",
       "      <td>4.47</td>\n",
       "      <td>9,278,135</td>\n",
       "    </tr>\n",
       "    <tr>\n",
       "      <th>2</th>\n",
       "      <td>2</td>\n",
       "      <td>Pride and Prejudice</td>\n",
       "      <td>Jane Austen</td>\n",
       "      <td>['Classics', 'Fiction', 'Romance', 'Historical...</td>\n",
       "      <td>4.28</td>\n",
       "      <td>3,944,155</td>\n",
       "    </tr>\n",
       "    <tr>\n",
       "      <th>3</th>\n",
       "      <td>3</td>\n",
       "      <td>The Diary of a Young Girl</td>\n",
       "      <td>Anne Frank</td>\n",
       "      <td>['Classics', 'Nonfiction', 'History', 'Biograp...</td>\n",
       "      <td>4.18</td>\n",
       "      <td>3,488,438</td>\n",
       "    </tr>\n",
       "    <tr>\n",
       "      <th>4</th>\n",
       "      <td>4</td>\n",
       "      <td>Animal Farm</td>\n",
       "      <td>George Orwell</td>\n",
       "      <td>['Classics', 'Fiction', 'Dystopia', 'Fantasy',...</td>\n",
       "      <td>3.98</td>\n",
       "      <td>3,575,172</td>\n",
       "    </tr>\n",
       "  </tbody>\n",
       "</table>\n",
       "</div>"
      ],
      "text/plain": [
       "   Unnamed: 0                                               Book  \\\n",
       "0           0                              To Kill a Mockingbird   \n",
       "1           1  Harry Potter and the Philosopher’s Stone (Harr...   \n",
       "2           2                                Pride and Prejudice   \n",
       "3           3                          The Diary of a Young Girl   \n",
       "4           4                                        Animal Farm   \n",
       "\n",
       "          Author                                             Genres  \\\n",
       "0     Harper Lee  ['Classics', 'Fiction', 'Historical Fiction', ...   \n",
       "1   J.K. Rowling  ['Fantasy', 'Fiction', 'Young Adult', 'Magic',...   \n",
       "2    Jane Austen  ['Classics', 'Fiction', 'Romance', 'Historical...   \n",
       "3     Anne Frank  ['Classics', 'Nonfiction', 'History', 'Biograp...   \n",
       "4  George Orwell  ['Classics', 'Fiction', 'Dystopia', 'Fantasy',...   \n",
       "\n",
       "   Avg_Rating Num_Ratings  \n",
       "0        4.27   5,691,311  \n",
       "1        4.47   9,278,135  \n",
       "2        4.28   3,944,155  \n",
       "3        4.18   3,488,438  \n",
       "4        3.98   3,575,172  "
      ]
     },
     "execution_count": 4,
     "metadata": {},
     "output_type": "execute_result"
    }
   ],
   "source": [
    "df_goodreads = df_goodreads.drop(columns=['Description','URL'])\n",
    "df_goodreads.head()"
   ]
  },
  {
   "cell_type": "markdown",
   "id": "19976f07-9375-4ea7-9f4c-b95875ab9c40",
   "metadata": {},
   "source": [
    "En cuanto a la columna Num_Ratings debería ser de tipo int y no object, por lo que debemos realizar el cambio."
   ]
  },
  {
   "cell_type": "code",
   "execution_count": 5,
   "id": "70ec0388-c9ac-4bd6-b2a9-189727e7acac",
   "metadata": {},
   "outputs": [
    {
     "data": {
      "text/plain": [
       "0       5,691,311\n",
       "1       9,278,135\n",
       "2       3,944,155\n",
       "3       3,488,438\n",
       "4       3,575,172\n",
       "          ...    \n",
       "9995          276\n",
       "9996           60\n",
       "9997          383\n",
       "9998          263\n",
       "9999           36\n",
       "Name: Num_Ratings, Length: 10000, dtype: object"
      ]
     },
     "execution_count": 5,
     "metadata": {},
     "output_type": "execute_result"
    }
   ],
   "source": [
    "df_goodreads['Num_Ratings']"
   ]
  },
  {
   "cell_type": "code",
   "execution_count": 6,
   "id": "9de8fa31-acee-4553-8f3c-118e97825442",
   "metadata": {},
   "outputs": [],
   "source": [
    "# Quitamos las comas y las sustituimos por nada:\n",
    "df_goodreads['Num_Ratings'] = df_goodreads['Num_Ratings'].str.replace(',', '')\n",
    "\n",
    "# Cambiamos el tipo a int.\n",
    "df_goodreads['Num_Ratings'] = df_goodreads['Num_Ratings'].astype(int)"
   ]
  },
  {
   "cell_type": "code",
   "execution_count": 7,
   "id": "a6c37219-2f93-4ab2-9fe0-2e9d95419d3c",
   "metadata": {},
   "outputs": [
    {
     "name": "stdout",
     "output_type": "stream",
     "text": [
      "<class 'pandas.core.frame.DataFrame'>\n",
      "RangeIndex: 10000 entries, 0 to 9999\n",
      "Data columns (total 6 columns):\n",
      " #   Column       Non-Null Count  Dtype  \n",
      "---  ------       --------------  -----  \n",
      " 0   Unnamed: 0   10000 non-null  int64  \n",
      " 1   Book         10000 non-null  object \n",
      " 2   Author       10000 non-null  object \n",
      " 3   Genres       10000 non-null  object \n",
      " 4   Avg_Rating   10000 non-null  float64\n",
      " 5   Num_Ratings  10000 non-null  int64  \n",
      "dtypes: float64(1), int64(2), object(3)\n",
      "memory usage: 468.9+ KB\n"
     ]
    }
   ],
   "source": [
    "df_goodreads.info()"
   ]
  },
  {
   "cell_type": "markdown",
   "id": "0bd6c752-6bcf-4f97-ab05-22c25a955f94",
   "metadata": {},
   "source": [
    "Por otro lado, existe la posibilidad de que haya libros duplicados, por lo tanto debemos comprobarlo y así tratarlos."
   ]
  },
  {
   "cell_type": "code",
   "execution_count": 8,
   "id": "53fc92ef-feb3-473d-9487-ac8ef172bd37",
   "metadata": {},
   "outputs": [
    {
     "data": {
      "text/html": [
       "<div>\n",
       "<style scoped>\n",
       "    .dataframe tbody tr th:only-of-type {\n",
       "        vertical-align: middle;\n",
       "    }\n",
       "\n",
       "    .dataframe tbody tr th {\n",
       "        vertical-align: top;\n",
       "    }\n",
       "\n",
       "    .dataframe thead th {\n",
       "        text-align: right;\n",
       "    }\n",
       "</style>\n",
       "<table border=\"1\" class=\"dataframe\">\n",
       "  <thead>\n",
       "    <tr style=\"text-align: right;\">\n",
       "      <th></th>\n",
       "      <th>Unnamed: 0</th>\n",
       "      <th>Book</th>\n",
       "      <th>Author</th>\n",
       "      <th>Genres</th>\n",
       "      <th>Avg_Rating</th>\n",
       "      <th>Num_Ratings</th>\n",
       "    </tr>\n",
       "  </thead>\n",
       "  <tbody>\n",
       "    <tr>\n",
       "      <th>21</th>\n",
       "      <td>21</td>\n",
       "      <td>The Hunger Games (The Hunger Games, #1)</td>\n",
       "      <td>Suzanne Collins</td>\n",
       "      <td>['Young Adult', 'Fiction', 'Dystopia', 'Fantas...</td>\n",
       "      <td>4.33</td>\n",
       "      <td>7963002</td>\n",
       "    </tr>\n",
       "    <tr>\n",
       "      <th>59</th>\n",
       "      <td>59</td>\n",
       "      <td>The Color Purple</td>\n",
       "      <td>Alice Walker</td>\n",
       "      <td>['Classics', 'Fiction', 'Historical Fiction', ...</td>\n",
       "      <td>4.26</td>\n",
       "      <td>633920</td>\n",
       "    </tr>\n",
       "    <tr>\n",
       "      <th>125</th>\n",
       "      <td>125</td>\n",
       "      <td>The Last Lecture</td>\n",
       "      <td>Randy Pausch</td>\n",
       "      <td>['Nonfiction', 'Memoir', 'Biography', 'Self He...</td>\n",
       "      <td>4.26</td>\n",
       "      <td>334149</td>\n",
       "    </tr>\n",
       "    <tr>\n",
       "      <th>134</th>\n",
       "      <td>134</td>\n",
       "      <td>The Girl with the Dragon Tattoo (Millennium, #1)</td>\n",
       "      <td>Stieg Larsson</td>\n",
       "      <td>['Fiction', 'Mystery', 'Thriller', 'Crime', 'M...</td>\n",
       "      <td>4.16</td>\n",
       "      <td>3029842</td>\n",
       "    </tr>\n",
       "    <tr>\n",
       "      <th>231</th>\n",
       "      <td>231</td>\n",
       "      <td>Speak</td>\n",
       "      <td>Laurie Halse Anderson</td>\n",
       "      <td>['Young Adult', 'Fiction', 'Contemporary', 'Re...</td>\n",
       "      <td>4.04</td>\n",
       "      <td>565317</td>\n",
       "    </tr>\n",
       "    <tr>\n",
       "      <th>...</th>\n",
       "      <td>...</td>\n",
       "      <td>...</td>\n",
       "      <td>...</td>\n",
       "      <td>...</td>\n",
       "      <td>...</td>\n",
       "      <td>...</td>\n",
       "    </tr>\n",
       "    <tr>\n",
       "      <th>8467</th>\n",
       "      <td>8467</td>\n",
       "      <td>One Plus One</td>\n",
       "      <td>Jojo Moyes</td>\n",
       "      <td>['Fiction', 'Romance', 'Chick Lit', 'Contempor...</td>\n",
       "      <td>3.96</td>\n",
       "      <td>166104</td>\n",
       "    </tr>\n",
       "    <tr>\n",
       "      <th>8608</th>\n",
       "      <td>8608</td>\n",
       "      <td>The Hunger Games (The Hunger Games, #1)</td>\n",
       "      <td>Suzanne Collins</td>\n",
       "      <td>['Young Adult', 'Fiction', 'Dystopia', 'Fantas...</td>\n",
       "      <td>4.33</td>\n",
       "      <td>7963186</td>\n",
       "    </tr>\n",
       "    <tr>\n",
       "      <th>8626</th>\n",
       "      <td>8626</td>\n",
       "      <td>Shakespeare's Sonnets</td>\n",
       "      <td>William Shakespeare</td>\n",
       "      <td>['Poetry', 'Classics', 'Fiction', 'Romance', '...</td>\n",
       "      <td>4.22</td>\n",
       "      <td>2493</td>\n",
       "    </tr>\n",
       "    <tr>\n",
       "      <th>8678</th>\n",
       "      <td>8678</td>\n",
       "      <td>The Oldest Dance (Wisdom Revolution, #2)</td>\n",
       "      <td>Misba</td>\n",
       "      <td>['Fantasy', 'Science Fiction Fantasy', 'Post A...</td>\n",
       "      <td>4.48</td>\n",
       "      <td>5547</td>\n",
       "    </tr>\n",
       "    <tr>\n",
       "      <th>8714</th>\n",
       "      <td>8714</td>\n",
       "      <td>Bloodline (Sigma Force, #8)</td>\n",
       "      <td>James Rollins</td>\n",
       "      <td>['Thriller', 'Fiction', 'Adventure', 'Mystery'...</td>\n",
       "      <td>4.24</td>\n",
       "      <td>22510</td>\n",
       "    </tr>\n",
       "  </tbody>\n",
       "</table>\n",
       "<p>198 rows × 6 columns</p>\n",
       "</div>"
      ],
      "text/plain": [
       "      Unnamed: 0                                              Book  \\\n",
       "21            21           The Hunger Games (The Hunger Games, #1)   \n",
       "59            59                                  The Color Purple   \n",
       "125          125                                  The Last Lecture   \n",
       "134          134  The Girl with the Dragon Tattoo (Millennium, #1)   \n",
       "231          231                                             Speak   \n",
       "...          ...                                               ...   \n",
       "8467        8467                                      One Plus One   \n",
       "8608        8608           The Hunger Games (The Hunger Games, #1)   \n",
       "8626        8626                             Shakespeare's Sonnets   \n",
       "8678        8678          The Oldest Dance (Wisdom Revolution, #2)   \n",
       "8714        8714                       Bloodline (Sigma Force, #8)   \n",
       "\n",
       "                     Author  \\\n",
       "21          Suzanne Collins   \n",
       "59             Alice Walker   \n",
       "125            Randy Pausch   \n",
       "134           Stieg Larsson   \n",
       "231   Laurie Halse Anderson   \n",
       "...                     ...   \n",
       "8467             Jojo Moyes   \n",
       "8608        Suzanne Collins   \n",
       "8626    William Shakespeare   \n",
       "8678                  Misba   \n",
       "8714          James Rollins   \n",
       "\n",
       "                                                 Genres  Avg_Rating  \\\n",
       "21    ['Young Adult', 'Fiction', 'Dystopia', 'Fantas...        4.33   \n",
       "59    ['Classics', 'Fiction', 'Historical Fiction', ...        4.26   \n",
       "125   ['Nonfiction', 'Memoir', 'Biography', 'Self He...        4.26   \n",
       "134   ['Fiction', 'Mystery', 'Thriller', 'Crime', 'M...        4.16   \n",
       "231   ['Young Adult', 'Fiction', 'Contemporary', 'Re...        4.04   \n",
       "...                                                 ...         ...   \n",
       "8467  ['Fiction', 'Romance', 'Chick Lit', 'Contempor...        3.96   \n",
       "8608  ['Young Adult', 'Fiction', 'Dystopia', 'Fantas...        4.33   \n",
       "8626  ['Poetry', 'Classics', 'Fiction', 'Romance', '...        4.22   \n",
       "8678  ['Fantasy', 'Science Fiction Fantasy', 'Post A...        4.48   \n",
       "8714  ['Thriller', 'Fiction', 'Adventure', 'Mystery'...        4.24   \n",
       "\n",
       "      Num_Ratings  \n",
       "21        7963002  \n",
       "59         633920  \n",
       "125        334149  \n",
       "134       3029842  \n",
       "231        565317  \n",
       "...           ...  \n",
       "8467       166104  \n",
       "8608      7963186  \n",
       "8626         2493  \n",
       "8678         5547  \n",
       "8714        22510  \n",
       "\n",
       "[198 rows x 6 columns]"
      ]
     },
     "execution_count": 8,
     "metadata": {},
     "output_type": "execute_result"
    }
   ],
   "source": [
    "duplicados = df_goodreads[df_goodreads.duplicated(subset = ['Book', 'Author'], keep = False)]\n",
    "duplicados"
   ]
  },
  {
   "cell_type": "markdown",
   "id": "173a3d26-619e-4344-b986-2e086bd301ce",
   "metadata": {},
   "source": [
    "Existen 198 filas duplicadas como por ejemplo las que se muestran a continuación. "
   ]
  },
  {
   "cell_type": "code",
   "execution_count": 21,
   "id": "1ab4d4cb-31b2-4271-9a71-093e6108fe10",
   "metadata": {},
   "outputs": [
    {
     "data": {
      "text/html": [
       "<div>\n",
       "<style scoped>\n",
       "    .dataframe tbody tr th:only-of-type {\n",
       "        vertical-align: middle;\n",
       "    }\n",
       "\n",
       "    .dataframe tbody tr th {\n",
       "        vertical-align: top;\n",
       "    }\n",
       "\n",
       "    .dataframe thead th {\n",
       "        text-align: right;\n",
       "    }\n",
       "</style>\n",
       "<table border=\"1\" class=\"dataframe\">\n",
       "  <thead>\n",
       "    <tr style=\"text-align: right;\">\n",
       "      <th></th>\n",
       "      <th>Unnamed: 0</th>\n",
       "      <th>Book</th>\n",
       "      <th>Author</th>\n",
       "      <th>Genres</th>\n",
       "      <th>Avg_Rating</th>\n",
       "      <th>Num_Ratings</th>\n",
       "    </tr>\n",
       "  </thead>\n",
       "  <tbody>\n",
       "    <tr>\n",
       "      <th>21</th>\n",
       "      <td>21</td>\n",
       "      <td>The Hunger Games (The Hunger Games, #1)</td>\n",
       "      <td>Suzanne Collins</td>\n",
       "      <td>['Young Adult', 'Fiction', 'Dystopia', 'Fantas...</td>\n",
       "      <td>4.33</td>\n",
       "      <td>7963002</td>\n",
       "    </tr>\n",
       "    <tr>\n",
       "      <th>4868</th>\n",
       "      <td>4868</td>\n",
       "      <td>The Hunger Games (The Hunger Games, #1)</td>\n",
       "      <td>Suzanne Collins</td>\n",
       "      <td>['Young Adult', 'Fiction', 'Dystopia', 'Fantas...</td>\n",
       "      <td>4.33</td>\n",
       "      <td>7963186</td>\n",
       "    </tr>\n",
       "    <tr>\n",
       "      <th>4894</th>\n",
       "      <td>4894</td>\n",
       "      <td>The Hunger Games (The Hunger Games, #1)</td>\n",
       "      <td>Suzanne Collins</td>\n",
       "      <td>['Young Adult', 'Fiction', 'Dystopia', 'Fantas...</td>\n",
       "      <td>4.33</td>\n",
       "      <td>7963186</td>\n",
       "    </tr>\n",
       "    <tr>\n",
       "      <th>8608</th>\n",
       "      <td>8608</td>\n",
       "      <td>The Hunger Games (The Hunger Games, #1)</td>\n",
       "      <td>Suzanne Collins</td>\n",
       "      <td>['Young Adult', 'Fiction', 'Dystopia', 'Fantas...</td>\n",
       "      <td>4.33</td>\n",
       "      <td>7963186</td>\n",
       "    </tr>\n",
       "  </tbody>\n",
       "</table>\n",
       "</div>"
      ],
      "text/plain": [
       "      Unnamed: 0                                     Book           Author  \\\n",
       "21            21  The Hunger Games (The Hunger Games, #1)  Suzanne Collins   \n",
       "4868        4868  The Hunger Games (The Hunger Games, #1)  Suzanne Collins   \n",
       "4894        4894  The Hunger Games (The Hunger Games, #1)  Suzanne Collins   \n",
       "8608        8608  The Hunger Games (The Hunger Games, #1)  Suzanne Collins   \n",
       "\n",
       "                                                 Genres  Avg_Rating  \\\n",
       "21    ['Young Adult', 'Fiction', 'Dystopia', 'Fantas...        4.33   \n",
       "4868  ['Young Adult', 'Fiction', 'Dystopia', 'Fantas...        4.33   \n",
       "4894  ['Young Adult', 'Fiction', 'Dystopia', 'Fantas...        4.33   \n",
       "8608  ['Young Adult', 'Fiction', 'Dystopia', 'Fantas...        4.33   \n",
       "\n",
       "      Num_Ratings  \n",
       "21        7963002  \n",
       "4868      7963186  \n",
       "4894      7963186  \n",
       "8608      7963186  "
      ]
     },
     "execution_count": 21,
     "metadata": {},
     "output_type": "execute_result"
    }
   ],
   "source": [
    "libro_duplicado = df_goodreads[df_goodreads['Book'] == 'The Hunger Games (The Hunger Games, #1)']\n",
    "libro_duplicado"
   ]
  },
  {
   "cell_type": "code",
   "execution_count": 20,
   "id": "f7f2501a-9be4-4ee1-a427-4005c0dde92f",
   "metadata": {},
   "outputs": [
    {
     "data": {
      "text/html": [
       "<div>\n",
       "<style scoped>\n",
       "    .dataframe tbody tr th:only-of-type {\n",
       "        vertical-align: middle;\n",
       "    }\n",
       "\n",
       "    .dataframe tbody tr th {\n",
       "        vertical-align: top;\n",
       "    }\n",
       "\n",
       "    .dataframe thead th {\n",
       "        text-align: right;\n",
       "    }\n",
       "</style>\n",
       "<table border=\"1\" class=\"dataframe\">\n",
       "  <thead>\n",
       "    <tr style=\"text-align: right;\">\n",
       "      <th></th>\n",
       "      <th>Unnamed: 0</th>\n",
       "      <th>Book</th>\n",
       "      <th>Author</th>\n",
       "      <th>Genres</th>\n",
       "      <th>Avg_Rating</th>\n",
       "      <th>Num_Ratings</th>\n",
       "    </tr>\n",
       "  </thead>\n",
       "  <tbody>\n",
       "    <tr>\n",
       "      <th>59</th>\n",
       "      <td>59</td>\n",
       "      <td>The Color Purple</td>\n",
       "      <td>Alice Walker</td>\n",
       "      <td>['Classics', 'Fiction', 'Historical Fiction', ...</td>\n",
       "      <td>4.26</td>\n",
       "      <td>633920</td>\n",
       "    </tr>\n",
       "    <tr>\n",
       "      <th>272</th>\n",
       "      <td>272</td>\n",
       "      <td>The Color Purple</td>\n",
       "      <td>Alice Walker</td>\n",
       "      <td>['Classics', 'Fiction', 'Historical Fiction', ...</td>\n",
       "      <td>4.26</td>\n",
       "      <td>633926</td>\n",
       "    </tr>\n",
       "  </tbody>\n",
       "</table>\n",
       "</div>"
      ],
      "text/plain": [
       "     Unnamed: 0              Book        Author  \\\n",
       "59           59  The Color Purple  Alice Walker   \n",
       "272         272  The Color Purple  Alice Walker   \n",
       "\n",
       "                                                Genres  Avg_Rating  \\\n",
       "59   ['Classics', 'Fiction', 'Historical Fiction', ...        4.26   \n",
       "272  ['Classics', 'Fiction', 'Historical Fiction', ...        4.26   \n",
       "\n",
       "     Num_Ratings  \n",
       "59        633920  \n",
       "272       633926  "
      ]
     },
     "execution_count": 20,
     "metadata": {},
     "output_type": "execute_result"
    }
   ],
   "source": [
    "libro_duplicado = df_goodreads[df_goodreads['Book'] == 'The Color Purple']\n",
    "libro_duplicado"
   ]
  },
  {
   "cell_type": "markdown",
   "id": "8f5a4e99-b716-4dcb-81b8-011ca77b3508",
   "metadata": {},
   "source": [
    "Como podemos observar, lo más acertado sería quedarse con el último valor registrado que es el que presenta cambios."
   ]
  },
  {
   "cell_type": "markdown",
   "id": "e7108e03-a455-40c9-ae6c-576759d2bb3e",
   "metadata": {},
   "source": [
    "Para no perder las lecturas de los libros:"
   ]
  },
  {
   "cell_type": "code",
   "execution_count": null,
   "id": "1526850f-9af4-46f2-8d6a-8a14ca58e9ae",
   "metadata": {},
   "outputs": [],
   "source": [
    "df_suma_lecturas = df_goodreads.groupby('Book')['Num_Ratings'].sum().reset_index()\n",
    "df_suma_lecturas"
   ]
  },
  {
   "cell_type": "code",
   "execution_count": null,
   "id": "71947524-6d19-456e-bf46-12abdb8cee28",
   "metadata": {},
   "outputs": [],
   "source": [
    "libro_duplicado = df_suma_lecturas[df_suma_lecturas['Book'] == 'Exodus']\n",
    "libro_duplicado"
   ]
  },
  {
   "cell_type": "code",
   "execution_count": null,
   "id": "c0b77691-959b-4e76-b018-8b32198b5b2c",
   "metadata": {},
   "outputs": [],
   "source": [
    "df_merged = pd.merge(df_goodreads, df_suma_lecturas, on='Book', how='left', suffixes=('', '_sum'))\n",
    "df_merged"
   ]
  },
  {
   "cell_type": "code",
   "execution_count": null,
   "id": "00220cf2-f37a-4c02-8225-b4e0217c81f7",
   "metadata": {},
   "outputs": [],
   "source": [
    "df_merged['Num_Ratings'] = df_merged['Num_Ratings_sum']\n",
    "df_merged.drop(columns=['Num_Ratings_sum'], inplace=True)"
   ]
  },
  {
   "cell_type": "code",
   "execution_count": null,
   "id": "80fb08b4-485a-4102-b04a-940c0a1134d5",
   "metadata": {},
   "outputs": [],
   "source": [
    "df_merged = df_merged.drop_duplicates(subset='Book', keep='first')"
   ]
  },
  {
   "cell_type": "code",
   "execution_count": null,
   "id": "107c515b-97ad-4dde-9c08-73345585d952",
   "metadata": {},
   "outputs": [],
   "source": [
    "libro_duplicado = df_merged[df_merged['Book'] == 'Exodus']\n",
    "libro_duplicado"
   ]
  },
  {
   "cell_type": "code",
   "execution_count": null,
   "id": "bc51cc68-096c-434e-b77b-7820399b1d80",
   "metadata": {},
   "outputs": [],
   "source": [
    "df_goodreads = df_merged"
   ]
  },
  {
   "cell_type": "markdown",
   "id": "1a932f93-c8b7-4f2c-9ee5-c3cb24461d33",
   "metadata": {},
   "source": [
    "La columna \"Genres\" está formada por una lista de distintos tipos de género.\n",
    "Vamos a suponer que el género principal es el primero que aparece y lo indicaremos en una nueva columna."
   ]
  },
  {
   "cell_type": "code",
   "execution_count": null,
   "id": "6458be1c-3414-40e5-b628-156e1f5686fe",
   "metadata": {},
   "outputs": [],
   "source": [
    "def obtener_primer_valor(x):\n",
    "    try:\n",
    "        lista = ast.literal_eval(x)  # Convertir la cadena a lista\n",
    "        if len(lista) > 0:  # Verificar si la lista no está vacía\n",
    "            return lista[0]  # Devolver el primer valor\n",
    "        else:\n",
    "            return None  # Si la lista está vacía, devolver None (o cualquier valor por defecto)\n",
    "    except (ValueError, SyntaxError):  # Capturar errores de conversión de cadenas no válidas\n",
    "        return None  # Si la cadena no es válida, devolver None\n",
    "\n",
    "# Aplicar la función a la columna\n",
    "df_goodreads['Principal_Genre'] = df_goodreads['Genres'].apply(obtener_primer_valor)\n"
   ]
  },
  {
   "cell_type": "code",
   "execution_count": null,
   "id": "1f6ddaf3-f70f-45e6-b497-a7eb4609a36d",
   "metadata": {},
   "outputs": [],
   "source": [
    "df_goodreads.head(10)"
   ]
  },
  {
   "cell_type": "code",
   "execution_count": null,
   "id": "3e25a5ff-5b5d-4833-b1e2-a47ff1a9b9bf",
   "metadata": {},
   "outputs": [],
   "source": [
    "# Observamos cuáles son los valores de la nueva columna\n",
    "df_goodreads['Principal_Genre'].value_counts()"
   ]
  },
  {
   "cell_type": "markdown",
   "id": "8af64536-b38e-438b-a5d3-8be6d0e7c1b1",
   "metadata": {},
   "source": [
    "Existe géneros que seguramente se puedan agrupar en otros, por ejemplo Military History o Civil War podrían ser libros de género Histórico o Fae podría ser fantasía."
   ]
  },
  {
   "cell_type": "code",
   "execution_count": null,
   "id": "65ac2de5-dde0-42fa-ad20-72fc9bed6d05",
   "metadata": {},
   "outputs": [],
   "source": [
    "# Observamos que libros son:\n",
    "generos_filtrados = 'Fae', 'Womens', 'Military History', 'Wicca', 'Civil War'\n",
    "df_goodreads[df_goodreads['Principal_Genre'].isin(generos_filtrados)]"
   ]
  },
  {
   "cell_type": "code",
   "execution_count": null,
   "id": "77dada67-e39e-4c13-b19e-459394812eca",
   "metadata": {},
   "outputs": [],
   "source": [
    "df_goodreads['Principal_Genre'] = df_goodreads['Principal_Genre'].replace({'Civil War': 'History', 'Military History': 'History'})"
   ]
  },
  {
   "cell_type": "code",
   "execution_count": null,
   "id": "48c79388-915f-461c-b88b-8b92367bca86",
   "metadata": {},
   "outputs": [],
   "source": [
    "df_goodreads['Principal_Genre'].value_counts()"
   ]
  },
  {
   "cell_type": "markdown",
   "id": "3cb12ee9-a1aa-442c-84d7-b0bfd534fe76",
   "metadata": {},
   "source": [
    "Como sigue habiendo muchos géneros con un solo valor vamos a analizar cuáles son para poder limpiarlo lo máximo posible."
   ]
  },
  {
   "cell_type": "code",
   "execution_count": null,
   "id": "abd01dbe-0dec-4807-9250-a9fe7fc55957",
   "metadata": {},
   "outputs": [],
   "source": [
    "# Obtener los valores con un recuento de 1\n",
    "generos = df_goodreads['Principal_Genre'].value_counts()\n",
    "generos_unicos = generos[generos == 1]\n",
    "\n",
    "# Ver los valores con recuento 1\n",
    "generos_unicos"
   ]
  },
  {
   "cell_type": "code",
   "execution_count": null,
   "id": "a4b42764-a81a-4f47-b87f-4cbc3cd6e94c",
   "metadata": {},
   "outputs": [],
   "source": [
    "# Escogemos algunos ejemplos para ver si presentan otros géneros a los que poder asociarlos.\n",
    "generos_filtrados = 'Survival', 'Social Justice', 'Personal Development', 'High School', 'Magical Realism', 'Canada', 'Cooking', 'Horses'\n",
    "df_goodreads[df_goodreads['Principal_Genre'].isin(generos_filtrados)]"
   ]
  },
  {
   "cell_type": "markdown",
   "id": "de383970-55b2-4f1e-89e9-b25c554d522d",
   "metadata": {},
   "source": [
    "Para poder limpiar los datos usaremos dos técnicas.\n",
    "* La primera consiste en reemplazar los valores actuales por los nuevos como si se tratara de un diccionario. Esto aplica a un género que es cambido por otro.\n",
    "* La segunda técnica consiste en cambiar varios géneros a la vez."
   ]
  },
  {
   "cell_type": "code",
   "execution_count": null,
   "id": "4d7ae4d2-8d9f-4b4c-b47d-9f6e5be46de1",
   "metadata": {},
   "outputs": [],
   "source": [
    "reemplazar = {'Social Justice': 'History','Survival': 'Adventure', 'Personal Development': 'Self Help',\n",
    "              'High School': 'Romance', 'Canada': 'Historical Fiction', 'Comedy' : 'Humor','Judaism' : 'Religion',\n",
    "               'Horses': 'Animals', 'Linguistics' : 'Linguistics', 'Transgender' : 'Memoir', 'Linguistics' : 'Philosophy',\n",
    "             'Juvenile': 'Young Adult', 'Kids' : 'Childrens', 'Gaming' : 'Business', 'Suspense': 'Thriller', 'Light Novel' : 'Manga',\n",
    "             'Architecture': 'Design', 'Shapeshifters' : 'Paranormal', 'comunication': 'Psychology', 'Gender': 'Feminism',\n",
    "             'Pulp': 'Amazon', 'Marathi':'Mythology', 'Adult': 'New Adult', 'Anthropology': 'Essays', 'Ukrainian Literature': 'Classics',\n",
    "             'Literary Criticism': 'Literature', 'Medicine': 'Medical', 'Portugal': 'Short Stories', 'Geology': 'Science' }\n",
    "\n",
    "df_goodreads['Principal_Genre'] = df_goodreads['Principal_Genre'].replace(reemplazar)"
   ]
  },
  {
   "cell_type": "code",
   "execution_count": null,
   "id": "93dd9dd0-02c2-4cfd-82e0-7677d59e7164",
   "metadata": {},
   "outputs": [],
   "source": [
    "df_goodreads['Principal_Genre'] = df_goodreads['Principal_Genre'].replace(\n",
    "    to_replace=r'.*(Love|Romance|Teen).*',  # Expresión regular para encontrar \"love\",\"romance\", etc\n",
    "    value='Romance',                   # Nuevo valor\n",
    "    regex=True                         # Usar regex\n",
    ")\n",
    "\n",
    "\n",
    "df_goodreads['Principal_Genre'] = df_goodreads['Principal_Genre'].replace(\n",
    "    to_replace=r'.*(Literary Fiction|Cyberpunk|Speculative Fiction|Womens Fiction|Russia|German Literature|African American|Indian Literature|Indian Literature ).*',  # Expresión regular para encontrar \"love\" o \"romance\"\n",
    "    value='Fiction',                   # Nuevo valor\n",
    "    regex=True                         # Usar regex\n",
    ")\n",
    "\n",
    "\n",
    "df_goodreads['Principal_Genre'] = df_goodreads['Principal_Genre'].replace(\n",
    "    to_replace=r'.*(Magical Realism|Gods|Angels|Fae|Fairy Tales|Epic Fantasy|Lds).*',  \n",
    "    value='Fantasy',                   # Nuevo valor\n",
    "    regex=True                         # Usar regex\n",
    ")\n",
    "\n",
    "df_goodreads['Principal_Genre'] = df_goodreads['Principal_Genre'].replace(\n",
    "    to_replace=r'.*(Cooking|Vegetarian).*', \n",
    "    value='Food',                   # Nuevo valor\n",
    "    regex=True                         # Usar regex\n",
    ")\n",
    "\n",
    "df_goodreads['Principal_Genre'] = df_goodreads['Principal_Genre'].replace(\n",
    "    to_replace=r'.*(Christian Non Fiction|Non Fiction|Race|Death|Film|Law|Martial Arts|Prayer).*', \n",
    "    value='Nonfiction',                   # Nuevo valor\n",
    "    regex=True                         # Usar regex\n",
    ")"
   ]
  },
  {
   "cell_type": "code",
   "execution_count": null,
   "id": "fc2e1d64-327c-4785-af9e-888213b2197b",
   "metadata": {},
   "outputs": [],
   "source": [
    "generos = df_goodreads['Principal_Genre'].value_counts()\n",
    "generos_unicos = generos[generos == 1]\n",
    "\n",
    "# Ver los valores con recuento 1\n",
    "generos_unicos.index"
   ]
  },
  {
   "cell_type": "markdown",
   "id": "4211f74e-f6bb-493e-a925-0be04652299e",
   "metadata": {},
   "source": [
    "Ahora solo tenemos 15 géneros con un único valor. Estos datos no podemos limpiarlos más ya que sólo tienen un género asignado."
   ]
  },
  {
   "cell_type": "markdown",
   "id": "a9a8ca72-2409-44e8-a937-7a298015df32",
   "metadata": {},
   "source": [
    "# Paso 3: Hipótesis"
   ]
  },
  {
   "cell_type": "markdown",
   "id": "dfeecc67-4be3-4178-8bb3-f6b84bf12c07",
   "metadata": {},
   "source": [
    "Antes de comenzar con el análisis debemos tener muy claras las hipótesis y cuáles son nuestros objetivos a la hora de realizar el análisis.\n",
    "Con este EDA queremos analizar y dar respuesta a las siguientes preguntas:\n",
    "1. ¿Cuál es el género literario más leído?\n",
    "2. ¿ Es el género literario más leído el mejor puntuado?\n",
    "3. ¿ Existe alguna relación entre los autores más publicados y los más leídos?\n",
    "4. ¿Qué autores destacan en los géneros más leídos?\n",
    "5. ¿Qué autores destacan en el género menos popular? "
   ]
  },
  {
   "cell_type": "markdown",
   "id": "2142fcdb-6776-4956-93a2-d65ebf47c3cd",
   "metadata": {},
   "source": [
    "# Paso 4: Análisis"
   ]
  },
  {
   "cell_type": "markdown",
   "id": "201a2ac8-2c23-48c9-b630-cfb1a7232e1f",
   "metadata": {},
   "source": [
    "> ## Relación entre géneros literarios más leídos y sus puntuaciones."
   ]
  },
  {
   "cell_type": "code",
   "execution_count": null,
   "id": "3089ae0c-bd93-4da5-af95-62d838a9a3d0",
   "metadata": {},
   "outputs": [],
   "source": [
    "# Obtenemos con cuántos géneros literarios nos hemos quedado:\n",
    "genero_unicos = df_goodreads['Principal_Genre'].nunique()\n",
    "genero_unicos"
   ]
  },
  {
   "cell_type": "code",
   "execution_count": null,
   "id": "0fe2115e-6da6-4ef6-aaf5-bc82d3abb427",
   "metadata": {},
   "outputs": [],
   "source": [
    "# Como siguen siendo muchos me interesa saber cuáles son los 10 géneros literarios más comunes.\n",
    "generos_mas_comunes = df_goodreads['Principal_Genre'].value_counts().head(10)\n",
    "generos_mas_comunes"
   ]
  },
  {
   "cell_type": "code",
   "execution_count": null,
   "id": "7f07f51c-cabc-4941-9a02-eb898ed05026",
   "metadata": {},
   "outputs": [],
   "source": [
    "cantidad_lecturas = df_goodreads.groupby('Principal_Genre')['Num_Ratings'].sum().sort_values(ascending=False).head(10)\n",
    "cantidad_lecturas"
   ]
  },
  {
   "cell_type": "markdown",
   "id": "ec49b9ca-f535-4c0f-b104-fa2f431bb952",
   "metadata": {},
   "source": [
    "### La primera observación que tenemos es que los géneros más leídos coinciden en su mayoría con los géneros más publicados."
   ]
  },
  {
   "cell_type": "markdown",
   "id": "3d7bb566-3c3d-4319-9a6b-35ffcb2c7558",
   "metadata": {},
   "source": [
    "A continuación vamos a observar qué sucede con las puntuaciones según los géneros principales. Para ello debemos crear una columna que tenga en cuenta tanto la puntuación como el total de lecturas."
   ]
  },
  {
   "cell_type": "code",
   "execution_count": null,
   "id": "a2cae5a7-c652-46b0-bce3-5ecfe256cee7",
   "metadata": {},
   "outputs": [],
   "source": [
    "media_valoraciones = df_goodreads.groupby('Principal_Genre')['Avg_Rating'].mean().head(10).sort_values(ascending = False)\n",
    "media_valoraciones"
   ]
  },
  {
   "cell_type": "markdown",
   "id": "b205ec27-d4db-4971-acf1-01e8c0555c41",
   "metadata": {},
   "source": [
    "Si simplemente vemos cuáles son los géneros de mayor puntuación se verán favorecidos aquellos géneros que se leen menos."
   ]
  },
  {
   "cell_type": "markdown",
   "id": "a4f7f452-d91f-4db1-bb1c-7573c9a3cd7a",
   "metadata": {},
   "source": [
    "Creamos un dataframe con los géneros más leídos y calculamos la puntuación media de dichos géneros."
   ]
  },
  {
   "cell_type": "code",
   "execution_count": null,
   "id": "457fa2ba-8425-45fc-bf91-c4e578bbcea2",
   "metadata": {},
   "outputs": [],
   "source": [
    "df_filtrado = df_goodreads[df_goodreads['Principal_Genre'].isin(cantidad_lecturas.index)]\n",
    "df_filtrado"
   ]
  },
  {
   "cell_type": "code",
   "execution_count": null,
   "id": "a363c38b-64d9-4e60-9358-a87be0750cf1",
   "metadata": {},
   "outputs": [],
   "source": [
    "media_valoraciones = df_filtrado.groupby('Principal_Genre')['Avg_Rating'].mean().sort_values(ascending=False)\n",
    "media_valoraciones"
   ]
  },
  {
   "cell_type": "markdown",
   "id": "29792db1-20de-4346-9c99-2d746b7cccc7",
   "metadata": {},
   "source": [
    "### Queremos saber si existe una correlacion positiva entre géneros más leidos y sus puntuaciones"
   ]
  },
  {
   "cell_type": "code",
   "execution_count": null,
   "id": "cdcb4b41-e7f6-4c03-b405-ef9f71a86136",
   "metadata": {},
   "outputs": [],
   "source": [
    "plt.figure(figsize=(10, 6))\n",
    "sns.scatterplot(data=df_filtrado, x='Num_Ratings', y='Avg_Rating', hue='Principal_Genre', palette='Set2', s=100)"
   ]
  },
  {
   "cell_type": "markdown",
   "id": "96c18639-8715-4b46-8d29-fddb9d5b318c",
   "metadata": {},
   "source": [
    "A simple vista tenemos demasiados datos para saber si existe alguna correlación, aunque aparentemente los valores se distribuyen entorno a una línea recta lo que significaría que no hay correlación."
   ]
  },
  {
   "cell_type": "code",
   "execution_count": null,
   "id": "88b868ea-8a56-4e01-813c-ba06800a08b3",
   "metadata": {},
   "outputs": [],
   "source": [
    "# 1. Creamos un gráfico que una los generos más leidos y la media de valoraciones.\n",
    "df_agg = pd.DataFrame({\n",
    "    'Avg_Rating': media_valoraciones,\n",
    "    'Num_Ratings': cantidad_lecturas})\n",
    "\n",
    "df_agg"
   ]
  },
  {
   "cell_type": "code",
   "execution_count": null,
   "id": "506c38aa-10e6-445a-a447-308c4d408084",
   "metadata": {},
   "outputs": [],
   "source": [
    "# 2. Creamos el diagrama de dispersión.\n",
    "plt.figure(figsize=(10, 6))\n",
    "sns.scatterplot(data=df_agg, x='Num_Ratings', y='Avg_Rating', hue=df_agg.index, palette='Set2', s=100)\n",
    "plt.xlabel('Cantidad de Lecturas', fontsize=12)\n",
    "plt.ylabel('Puntuación Media', fontsize=12);"
   ]
  },
  {
   "cell_type": "code",
   "execution_count": null,
   "id": "c144483b-8909-4fbb-b526-6f0221568dbd",
   "metadata": {},
   "outputs": [],
   "source": [
    "df_agg = df_agg.reset_index()\n",
    "df_agg.sort_values('Num_Ratings', ascending=False).plot(kind='bar', x='Principal_Genre', y='Avg_Rating', legend=False, color='brown')\n",
    "plt.title('Comparación de Puntuación Media según Géneros Más Leídos')\n",
    "plt.xlabel('Género')\n",
    "plt.ylabel('Puntuación Media')\n",
    "plt.xticks(rotation=45)\n",
    "plt.tight_layout()\n",
    "plt.show()\n"
   ]
  },
  {
   "cell_type": "markdown",
   "id": "719cb30d-9f96-46c9-8ab7-a03850d2553b",
   "metadata": {},
   "source": [
    "Sin embargo, a pesar de lo mencionado con anterioridad, observamos que géneros como 'Horror' son menos leídos y también peor puntuados al contrario que 'Fantasy' que es el género más leído y también el mejor puntuado"
   ]
  },
  {
   "cell_type": "markdown",
   "id": "a6462a35-a483-4f32-bb26-6d20913e3cef",
   "metadata": {},
   "source": [
    "Además encontramos dos claros grupos, los que son leidos por mas de 100 millones de personas y los que no,\n",
    "En el primer grupo destaca el género 'Horror' como el peor puntuado y el menos leído. Por otro lado, 'Historical Fiction' y Nonfiction' son los más leídos y los mejores puntuados.\n",
    "\n",
    "En el segundo grupo destaca 'Fantasy como el género más leído y mejor puntuado'.\n",
    "En este grupo encontramos que excepto el género anterior se puntuan mucho peor, tal y como sucede con'Fiction' que es el más leído de todos y el peor puntuado."
   ]
  },
  {
   "cell_type": "markdown",
   "id": "fcb6bb02-c927-4b3d-964b-d9daa55465ae",
   "metadata": {},
   "source": [
    "Podemos mirar relaciones entre autores y mejores puntuaciones o que autores tienen mas publicaciones"
   ]
  },
  {
   "cell_type": "markdown",
   "id": "fad1abda-ab0f-41f3-80fd-c592f9727eeb",
   "metadata": {},
   "source": [
    "> ## Relación entre autores literarios más leídos y más publicados"
   ]
  },
  {
   "cell_type": "code",
   "execution_count": null,
   "id": "f18399eb-55d6-459f-914f-60c0ebad1cab",
   "metadata": {},
   "outputs": [],
   "source": [
    "# Antes de comenzar veamos cuántos autores tenemos en la base de datos.\n",
    "autores = df_goodreads['Author'].nunique()\n",
    "autores"
   ]
  },
  {
   "cell_type": "code",
   "execution_count": null,
   "id": "1c7ec89d-8e0b-49e4-9bfe-0595089191ba",
   "metadata": {},
   "outputs": [],
   "source": [
    "# 1. Obtenemos cuáles son los autores que más libros publicados tienen.\n",
    "autores_publicados = df_goodreads['Author'].value_counts()\n",
    "autores_publicados"
   ]
  },
  {
   "cell_type": "code",
   "execution_count": null,
   "id": "be4bd8c4-d96f-4535-b55c-8d59bf245b3e",
   "metadata": {},
   "outputs": [],
   "source": [
    "mediana_autores = autores_publicados.median()\n",
    "mediana_autores"
   ]
  },
  {
   "cell_type": "code",
   "execution_count": null,
   "id": "80fe0f48-b1c8-40ed-9f39-d8ff21a0ef9a",
   "metadata": {},
   "outputs": [],
   "source": [
    "# 2. Obtenemos cuáles son los autores que más leídos.\n",
    "autores_mas_leidos = df_goodreads.groupby('Author')['Num_Ratings'].sum().sort_values(ascending = False)\n",
    "autores_mas_leidos"
   ]
  },
  {
   "cell_type": "code",
   "execution_count": null,
   "id": "97deead6-8194-481f-9298-925cace3a695",
   "metadata": {},
   "outputs": [],
   "source": [
    "# 3. Unimos ambos datafarmes para obtener la correlacion.\n",
    "df_autores = pd.DataFrame({\n",
    "    'publicaciones': autores_publicados,\n",
    "    'lecturas': autores_mas_leidos\n",
    "})\n",
    "\n",
    "# 4. Obtenemos la correlacion\n",
    "correlacion = round(df_autores['publicaciones'].corr(df_autores['lecturas']),2)\n",
    "correlacion"
   ]
  },
  {
   "cell_type": "markdown",
   "id": "6e300fed-eb01-4e3e-814b-e0928114c813",
   "metadata": {},
   "source": [
    "La correlacion obtenida es aproximadamente 0,46. Esto significa que existe una correlacion positiva moderada. Es decir, podríamos determinar que cuanto más publiquen a un autor, más libros se van a leer. Sin embargo, al ser moderada no quiere decir que esto sea determinante, sino que existirán otras causas que hagan que los libros sean más leídos."
   ]
  },
  {
   "cell_type": "markdown",
   "id": "934d52f4-7de0-4733-b89c-0d13732c6c92",
   "metadata": {},
   "source": [
    "> ## Relación entre autores y sus géneros literarios."
   ]
  },
  {
   "cell_type": "code",
   "execution_count": null,
   "id": "93f08262-b2bd-4be8-9fe2-371610c4c926",
   "metadata": {},
   "outputs": [],
   "source": [
    "conteo_generos = df_goodreads.groupby(['Author', 'Principal_Genre']).size().reset_index(name='Cantidad').sort_values(by = ['Cantidad', 'Author', 'Principal_Genre'],ascending = [False, True, True])\n",
    "conteo_generos"
   ]
  },
  {
   "cell_type": "markdown",
   "id": "eba2906d-aac3-4a52-bf29-848c52bd5cdc",
   "metadata": {},
   "source": [
    "Para ver la correlación entre autor, género y cantidad de lecturas debemos acudir a hacer un ANOVA de dos vías."
   ]
  },
  {
   "cell_type": "code",
   "execution_count": null,
   "id": "2f0ef048-f9c8-44f9-8acf-756a44e14b62",
   "metadata": {},
   "outputs": [],
   "source": [
    "import statsmodels.api as sm\n",
    "from statsmodels.formula.api import ols\n",
    "from statsmodels.stats.anova import anova_lm\n",
    "\n",
    "# ANOVA de dos vías para autor y genero\n",
    "modelo = ols('Num_Ratings ~ C(Author) + C(Principal_Genre) + C(Author):C(Principal_Genre)', data=df_goodreads).fit()\n",
    "anova_resultados = anova_lm(modelo)\n",
    "\n",
    "print(anova_resultados)\n"
   ]
  },
  {
   "cell_type": "code",
   "execution_count": null,
   "id": "1a07ed74-f4dd-461c-8761-6ee7fafc3b78",
   "metadata": {},
   "outputs": [],
   "source": [
    "ANOVA de dos vías: Permite analizar la interacción entre autor y género para ver si ambos factores juntos afectan las lecturas de forma significativa.\n",
    "\n",
    "El modelo lecturas ~ C(autor) + C(genero) + C(autor):C(genero) incluye tanto los efectos principales de autor y género como la interacción entre ellos.\n",
    "En los resultados, si la columna PR(>F) para C(autor):C(genero) es significativa (p < 0.05), significa que hay una interacción significativa entre el autor y el género respecto a las lecturas.\n",
    "3. Interpretación de los resultados:\n",
    "Si el valor p es menor que 0.05, puedes concluir que existe una relación significativa entre las lecturas y la variable que estás analizando (autor o género).\n",
    "Si el valor p es mayor que 0.05, no hay suficiente evidencia para concluir que exista una relación significativa."
   ]
  },
  {
   "cell_type": "markdown",
   "id": "e6e0269d-d00f-4e44-b713-ad2aa0932e3f",
   "metadata": {},
   "source": [
    "Me sale ese error porque no es capaz de manejar tantos tipos de valores."
   ]
  },
  {
   "cell_type": "markdown",
   "id": "3714f56d-5006-4fdd-a81c-afc7c8147729",
   "metadata": {},
   "source": [
    "> # Autores más leídos en los géneros más populares"
   ]
  },
  {
   "cell_type": "markdown",
   "id": "ab279653-161f-47f8-be5a-9d191a769053",
   "metadata": {},
   "source": [
    "Tal y como se observó con anterioridad los géneros que más lectores presentan son 'Fantasy' y 'Fiction', pero observamos que cada uno de ellos tenía puntuaciones muy diferentes.\n",
    "\n",
    "Es por ello, que procederemos a un análisis individual de cada tipo para ver sus autores y las puntuaciones."
   ]
  },
  {
   "cell_type": "markdown",
   "id": "76787227-5abe-4c3c-81cb-b8a174a42b3a",
   "metadata": {},
   "source": [
    ">> ## Autores más leídos en 'Fantasy'"
   ]
  },
  {
   "cell_type": "code",
   "execution_count": null,
   "id": "98e2f875-cd1d-40f9-8ec7-c657c76feded",
   "metadata": {},
   "outputs": [],
   "source": [
    "# 1. Obtenemos un dataframe que contenga todos los libros del género fantasía.\n",
    "df_fantasy = df_goodreads[df_goodreads['Principal_Genre'] == 'Fantasy']\n",
    "\n",
    "# 2. Lo ordenamos para obtener cuáles son los 5 libros más leídos.\n",
    "df_fantasy_top5 = df_fantasy.sort_values(by= 'Num_Ratings', ascending = False).head(5)\n",
    "\n",
    "df_fantasy_top5"
   ]
  },
  {
   "cell_type": "code",
   "execution_count": null,
   "id": "208318fb-6ffb-4f19-94df-f0d0e47f1d88",
   "metadata": {},
   "outputs": [],
   "source": [
    "# 3. Creamos el gráfico de barras.\n",
    "plt.figure(figsize=(10, 6))\n",
    "plt.bar(df_fantasy_top5['Book'], df_fantasy_top5['Num_Ratings'], color='brown')\n",
    "\n",
    "# Títulos y etiquetas\n",
    "plt.title('Top 5 Libros más leídos', fontsize=14)\n",
    "plt.xlabel('Libro', fontsize=12)\n",
    "plt.ylabel('Lecturas', fontsize=12)\n",
    "\n",
    "#  Rotar los títulos de los libros para mejor visibilidad\n",
    "plt.xticks(rotation=45, ha='right');"
   ]
  },
  {
   "cell_type": "markdown",
   "id": "eb0cf492-43b3-44db-9b42-c7991c2c8ff3",
   "metadata": {},
   "source": [
    "Tras un primer análisis observamos que 3 de los 5 libros de Fantasía más populares pertenecen a la autora J.K. Rowling.\n",
    "Pero, ¿será también la autora más leída en general? ¿Y la mejor puntuada?"
   ]
  },
  {
   "cell_type": "markdown",
   "id": "8596fb67-057d-4d1e-b80a-d3b380e45e4e",
   "metadata": {},
   "source": [
    "Comencemos con el primero de estos análisis."
   ]
  },
  {
   "cell_type": "code",
   "execution_count": null,
   "id": "0f9acea5-7039-4094-9023-b9aac6343527",
   "metadata": {},
   "outputs": [],
   "source": [
    "autores_fantasy = df_fantasy.groupby('Author')['Num_Ratings'].sum().sort_values(ascending = False).head (5)\n",
    "autores_fantasy"
   ]
  },
  {
   "cell_type": "code",
   "execution_count": null,
   "id": "fe35479e-5db8-4fb6-8360-9d3ab3639595",
   "metadata": {},
   "outputs": [],
   "source": [
    "# Gráfico\n",
    "plt.figure(figsize=(10, 6))\n",
    "plt.bar(autores_fantasy.index, autores_fantasy.values, color='brown')\n",
    "\n",
    "# Títulos y etiquetas\n",
    "plt.title('Top 5 Autores más leídos', fontsize=14)\n",
    "plt.xlabel('Autores', fontsize=12)\n",
    "plt.ylabel('Lecturas', fontsize=12);\n",
    "\n"
   ]
  },
  {
   "cell_type": "markdown",
   "id": "ce1e043b-464a-4cb9-9897-a98f41f8f342",
   "metadata": {},
   "source": [
    "En este caso han aparecido autores como Rick Riordan y Sarah J.Mass entre los más leídos. Sin embargo, J.K. Rowling muestra una gran ventaja respecto a los demás."
   ]
  },
  {
   "cell_type": "markdown",
   "id": "8477d423-40ee-44ae-9806-c95153c80e3c",
   "metadata": {},
   "source": [
    "Ahora bien, puede que estos autores sean los más leídos pero, ¿son los mejor puntuados?"
   ]
  },
  {
   "cell_type": "code",
   "execution_count": null,
   "id": "3fdc64b1-1349-4ed1-b6a5-1e12ed87e48a",
   "metadata": {},
   "outputs": [],
   "source": [
    "autores_fantasy_puntuacion = df_fantasy.groupby('Author')['Avg_Rating'].mean().sort_values(ascending = False).head (5)\n",
    "autores_fantasy_puntuacion"
   ]
  },
  {
   "cell_type": "markdown",
   "id": "5f0314bb-b42d-481e-94c4-c2c5061bce48",
   "metadata": {},
   "source": [
    "Como vemos, ninguno de los autores más leídos está dentro de los 5 mejor puntuados. Esto se debe a que cuanta más gente te lee y más libros publicados tienes, la puntuación se ve más distribuida que para otros autores que solo tengan un libro publicado y con buena puntuación.\n",
    "\n",
    "Pero veamos que puntuaciones medias tienen los autores más leídos."
   ]
  },
  {
   "cell_type": "code",
   "execution_count": null,
   "id": "6074b6ff-955c-4f3c-a6f0-95013a34301f",
   "metadata": {},
   "outputs": [],
   "source": [
    "autores_seleccionados = ['J.K. Rowling', 'Rick Riordan', 'Sarah J. Maas', 'Stephenie Meyer', 'J.R.R. Tolkien']\n",
    "df_autores = df_fantasy[df_fantasy['Author'].isin(autores_seleccionados)]\n",
    "autores_fantasy_puntuacion = df_autores.groupby('Author')['Avg_Rating'].mean().sort_values(ascending=False)\n",
    "autores_fantasy_puntuacion"
   ]
  },
  {
   "cell_type": "code",
   "execution_count": null,
   "id": "85ee3b37-2c10-4f71-824e-52d9916e55d3",
   "metadata": {},
   "outputs": [],
   "source": [
    "plt.figure(figsize=(10, 6))\n",
    "colores = {'J.K. Rowling': 'orange', 'Rick Riordan': 'red','Sarah J. Maas': 'blue','Stephenie Meyer': 'black', 'J.R.R. Tolkien' : 'green'}\n",
    "\n",
    "for autor, color in colores.items():\n",
    "    df_autor = df_autores[df_autores['Author'] == autor]\n",
    "    plt.scatter(df_autor['Num_Ratings'], df_autor['Avg_Rating'], color=color, s=100, label=autor)\n",
    "\n",
    "plt.title('Distribución de Lectores y Puntuaciones Promedio de Autores', fontsize=14)\n",
    "plt.xlabel('Número de Lectores', fontsize=12)\n",
    "plt.ylabel('Puntuación Promedio', fontsize=12)\n",
    "\n",
    "plt.legend(title=\"Autores\")"
   ]
  },
  {
   "cell_type": "markdown",
   "id": "8c73665b-6e77-438b-bc2a-2316e713fb18",
   "metadata": {},
   "source": [
    "Podemos obtener las siguientes conclusiones:\n",
    "1. J.K.Rowling se sitúa entre las mejor puntuadas, seguida por Sarah J.Mass.\n",
    "2. Rick Riordan es el que más libros ha publicado superando todos ellos la puntuación de 4.\n",
    "3. Stephanie Meyer tiene libros muy populares pero no muy bien valorados.\n",
    "4. J.R.R. Tolkien ha escrito libros peor puntuados que los de Sarah J.Mass pero más populares."
   ]
  },
  {
   "cell_type": "markdown",
   "id": "48178246-0f74-4399-99d3-ba1ad70571d6",
   "metadata": {},
   "source": [
    ">> ## Autores más leídos en 'Fiction'"
   ]
  },
  {
   "cell_type": "code",
   "execution_count": null,
   "id": "21b63574-81f9-4d75-b67e-7a6fc4e7bd90",
   "metadata": {},
   "outputs": [],
   "source": [
    "# 1. Obtenemos un dataframe que contenga todos los libros del género fantasía.\n",
    "df_fiction = df_goodreads[df_goodreads['Principal_Genre'] == 'Fiction']\n",
    "\n",
    "# 2. Lo ordenamos para obtener cuáles son los 5 libros más leídos.\n",
    "df_fiction_top5 = df_fiction.sort_values(by= 'Num_Ratings', ascending = False).head(5)\n",
    "\n",
    "df_fiction_top5"
   ]
  },
  {
   "cell_type": "code",
   "execution_count": null,
   "id": "5ae5efc2-cba8-4f0b-8975-bfcba0b3cd27",
   "metadata": {},
   "outputs": [],
   "source": [
    "plt.figure(figsize=(10, 6))\n",
    "plt.bar(df_fiction_top5['Book'], df_fiction_top5['Num_Ratings'], color='brown')\n",
    "\n",
    "# Títulos y etiquetas\n",
    "plt.title('Top 5 Libros más leídos', fontsize=14)\n",
    "plt.xlabel('Libro', fontsize=12)\n",
    "plt.ylabel('Lecturas', fontsize=12)\n",
    "\n",
    "#  Rotar los títulos de los libros para mejor visibilidad\n",
    "plt.xticks(rotation=45, ha='right');"
   ]
  },
  {
   "cell_type": "code",
   "execution_count": null,
   "id": "547cab2a-366e-46ed-99e2-09dfe4a63d7f",
   "metadata": {},
   "outputs": [],
   "source": [
    "autores_fiction = df_fiction.groupby('Author')['Num_Ratings'].sum().sort_values(ascending = False).head (5)\n",
    "autores_fiction"
   ]
  },
  {
   "cell_type": "code",
   "execution_count": null,
   "id": "10d20dba-d53a-4f0e-8aca-76e8a7bbec3e",
   "metadata": {},
   "outputs": [],
   "source": [
    "autores_seleccionados_fiction = ['Dan Brown', 'Stieg Larsson', 'Taylor Jenkins Reid', 'Khaled Hosseini', 'John Grisham']\n",
    "df_autores_fiction = df_fiction[df_fiction['Author'].isin(autores_seleccionados_fiction)]\n",
    "autores_fiction_puntuacion = df_autores_fiction.groupby('Author')['Avg_Rating'].mean().sort_values(ascending=False)\n",
    "autores_fiction_puntuacion"
   ]
  },
  {
   "cell_type": "code",
   "execution_count": null,
   "id": "c010268d-0d31-49c6-a9d8-c680f29d2e5a",
   "metadata": {},
   "outputs": [],
   "source": [
    "plt.figure(figsize=(10, 6))\n",
    "colores = {'Dan Brown': 'orange', 'Stieg Larsson': 'red','Taylor Jenkins Reid': 'blue','Khaled Hosseini': 'black', 'John Grisham' : 'green'}\n",
    "\n",
    "for autor, color in colores.items():\n",
    "    df_autor_fiction = df_autores_fiction[df_autores_fiction['Author'] == autor]\n",
    "    plt.scatter(df_autor_fiction['Num_Ratings'], df_autor_fiction['Avg_Rating'], color=color, s=100, label=autor)\n",
    "\n",
    "plt.title('Distribución de Lectores y Puntuaciones Promedio de Autores de Ficción', fontsize=14)\n",
    "plt.xlabel('Número de Lectores', fontsize=12)\n",
    "plt.ylabel('Puntuación Promedio', fontsize=12)\n",
    "\n",
    "plt.legend(title=\"Autores de Ficción\")"
   ]
  },
  {
   "cell_type": "markdown",
   "id": "05abb085-768c-47ce-8ec0-29ccbcd62884",
   "metadata": {},
   "source": [
    "### Conclusiones\n",
    "1. Lo primero que se observa es que el eje y, donde se representan las puntuaciones ha disminuido de valores.\n",
    "2. John Grisham ha mantenido su público pero ha ido mejorando sus puntuaciones.\n",
    "3. Dan Brown ha ido creciendo en lectores pero no consigue llegar con ninguno de sus libros a 4.\n",
    "4. Stieg Larsson, Taylor Jenkins Reid y Khaled Hosseini tienen una distribución similar teniendo pocos libros publicados pero con gran público que les da unas buenas valoraciones."
   ]
  },
  {
   "cell_type": "code",
   "execution_count": null,
   "id": "5533dc11-7143-40d7-8a8b-f2f247412fe1",
   "metadata": {},
   "outputs": [],
   "source": [
    "plt.figure(figsize=(10, 6))\n",
    "\n",
    "# Graficar los puntos: eje X = 'Num_Ratings' (lecturas), eje Y = 'Avg_Rating' (puntuación promedio)\n",
    "plt.scatter(df_fantasy['Num_Ratings'], df_fantasy['Avg_Rating'], color='brown', alpha=0.5)\n",
    "\n",
    "# Título y etiquetas\n",
    "plt.title('Distribución de Lectores y Puntuaciones Promedio para el Género de Fantasía', fontsize=14)\n",
    "plt.xlabel('Número de Lectores', fontsize=12)\n",
    "plt.ylabel('Puntuación Promedio', fontsize=12)"
   ]
  },
  {
   "cell_type": "code",
   "execution_count": null,
   "id": "427ce77a-3652-4c05-bdd3-87df22564d75",
   "metadata": {},
   "outputs": [],
   "source": [
    "plt.figure(figsize=(10, 6))\n",
    "\n",
    "# Graficar los puntos: eje X = 'Num_Ratings' (lecturas), eje Y = 'Avg_Rating' (puntuación promedio)\n",
    "plt.scatter(df_fiction['Num_Ratings'], df_fiction['Avg_Rating'], color='brown', alpha=0.5)\n",
    "\n",
    "# Título y etiquetas\n",
    "plt.title('Distribución de Lectores y Puntuaciones Promedio para el Género de Ficción', fontsize=14)\n",
    "plt.xlabel('Número de Lectores', fontsize=12)\n",
    "plt.ylabel('Puntuación Promedio', fontsize=12)"
   ]
  },
  {
   "cell_type": "markdown",
   "id": "91cd834e-14be-4b42-87ba-cb6283df0702",
   "metadata": {},
   "source": [
    "Hay más valores entre 1 M y 3 M en Ficción.\n",
    "Las puntuaciones de Fantasy se cpncentrán entre 3,5 y 4,8 mientras que las de Ficción entre 3 y 4,6"
   ]
  },
  {
   "cell_type": "markdown",
   "id": "d0f0356e-04db-4c68-9fe2-701bba0d78f0",
   "metadata": {},
   "source": [
    "> # Género Horror"
   ]
  },
  {
   "cell_type": "code",
   "execution_count": null,
   "id": "28d7af29-aa16-4920-89f1-d888200a4916",
   "metadata": {},
   "outputs": [],
   "source": [
    "# 1. Obtenemos un dataframe que contenga todos los libros del género fantasía.\n",
    "df_horror = df_goodreads[df_goodreads['Principal_Genre'] == 'Horror']\n",
    "\n",
    "# 2. Lo ordenamos para obtener cuáles son los 5 libros más leídos.\n",
    "df_horror_top5 = df_horror.sort_values(by= 'Num_Ratings', ascending = False).head(5)\n",
    "\n",
    "df_horror_top5"
   ]
  },
  {
   "cell_type": "code",
   "execution_count": null,
   "id": "f9d67d40-9505-495a-9f2b-a41d43e42fd3",
   "metadata": {},
   "outputs": [],
   "source": [
    "plt.figure(figsize=(10, 6))\n",
    "\n",
    "# Graficar los puntos: eje X = 'Num_Ratings' (lecturas), eje Y = 'Avg_Rating' (puntuación promedio)\n",
    "plt.scatter(df_horror['Num_Ratings'], df_horror['Avg_Rating'], color='brown', alpha=0.5)\n",
    "\n",
    "# Título y etiquetas\n",
    "plt.title('Distribución de Lectores y Puntuaciones Promedio para el Género de Horror', fontsize=14)\n",
    "plt.xlabel('Número de Lectores', fontsize=12)\n",
    "plt.ylabel('Puntuación Promedio', fontsize=12)"
   ]
  },
  {
   "cell_type": "markdown",
   "id": "d38f343f-da89-465a-bcc6-dfb685998e3e",
   "metadata": {},
   "source": [
    "Este gráfico muestra la relación entre el número de lectores y la puntuación promedio para libros del género horror. Aquí tienes algunas conclusiones relevantes:\n",
    "\n",
    "Alta concentración de libros con pocos lectores: La mayoría de los libros tienen menos de 200,000 lectores, como se observa en la concentración de puntos en el extremo izquierdo del eje X.\n",
    "\n",
    "Puntuaciones promedio entre 3.5 y 4.5: Aunque hay variaciones, la mayoría de los libros obtienen puntuaciones promedio que oscilan entre 3.5 y 4.5, lo que indica que los lectores califican estos libros generalmente de manera favorable.\n",
    "\n",
    "Libros con más lectores tienden a tener puntuaciones más altas:\n",
    "\n",
    "Los libros con más de 600,000 lectores tienden a tener puntuaciones promedio alrededor de 4.0 o más.\n",
    "Esto sugiere que los libros populares en el género de horror suelen ser mejor valorados.\n",
    "Variabilidad en libros menos populares: Para libros con menos lectores (menos de 200,000), las puntuaciones son más dispersas. Esto podría significar que:\n",
    "\n",
    "Algunos libros son valorados muy positivamente aunque tengan pocos lectores.\n",
    "Otros reciben puntuaciones más bajas.\n",
    "Libros extremadamente populares son pocos:\n",
    "\n",
    "Solo unos pocos libros tienen más de 1,000,000 de lectores.\n",
    "Estos libros tienden a destacarse con puntuaciones promedio superiores a 4.0.\n",
    "En resumen, la popularidad de los libros del género horror (medida por el número de lectores) parece estar correlacionada con puntuaciones más altas, pero existe una gran cantidad de libros con menor alcance y con puntuaciones variadas. Esto podría indicar un mercado con una base sólida de obras populares, pero también una amplia variedad de libros menos conocidos."
   ]
  },
  {
   "cell_type": "code",
   "execution_count": null,
   "id": "85b388e1-e468-41df-bed7-f90b4abe71fa",
   "metadata": {},
   "outputs": [],
   "source": []
  }
 ],
 "metadata": {
  "kernelspec": {
   "display_name": "Python 3 (ipykernel)",
   "language": "python",
   "name": "python3"
  },
  "language_info": {
   "codemirror_mode": {
    "name": "ipython",
    "version": 3
   },
   "file_extension": ".py",
   "mimetype": "text/x-python",
   "name": "python",
   "nbconvert_exporter": "python",
   "pygments_lexer": "ipython3",
   "version": "3.13.0"
  }
 },
 "nbformat": 4,
 "nbformat_minor": 5
}
