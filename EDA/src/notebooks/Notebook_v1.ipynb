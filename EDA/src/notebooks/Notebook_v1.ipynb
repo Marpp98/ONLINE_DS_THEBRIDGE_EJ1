{
 "cells": [
  {
   "cell_type": "markdown",
   "id": "7be51932-23ff-4bd1-aec4-43ada6fde922",
   "metadata": {},
   "source": [
    "<img src=\"img/encabezado_EDA.png\" alt=\"encabezado\" width=\"1000\" height=\"600\"/>"
   ]
  },
  {
   "cell_type": "markdown",
   "id": "8c2b48a0-2b55-4695-af76-6fbc8b3e836c",
   "metadata": {},
   "source": [
    "# PASO 1: importación de librerías necesarias"
   ]
  },
  {
   "cell_type": "code",
   "execution_count": 1,
   "id": "cb2cebb4-c3e4-4e62-a8b0-50e4c34e2c5f",
   "metadata": {},
   "outputs": [],
   "source": [
    "import ast\n",
    "import matplotlib.pyplot as plt\n",
    "import numpy as np\n",
    "import pandas as pd\n",
    "import seaborn as sns"
   ]
  },
  {
   "cell_type": "markdown",
   "id": "1fd232f7-4a0b-40bc-9f14-692bfae214ab",
   "metadata": {},
   "source": [
    "# PASO 2: limpieza y tratamiento de datos"
   ]
  },
  {
   "cell_type": "code",
   "execution_count": 2,
   "id": "5d059e95-5bad-4bef-8630-6441af30216b",
   "metadata": {},
   "outputs": [],
   "source": [
    "# Convertimos las bases de datos a dataframes\n",
    "df_goodreads = pd.read_csv(\"./data/goodreads_data.csv\")\n",
    "df_books = pd.read_csv(\"./data/books_of_the_decade.csv\")"
   ]
  },
  {
   "cell_type": "code",
   "execution_count": 3,
   "id": "b826a5c2-3586-480d-8b15-18406e2bcdd6",
   "metadata": {},
   "outputs": [
    {
     "name": "stdout",
     "output_type": "stream",
     "text": [
      "<class 'pandas.core.frame.DataFrame'>\n",
      "RangeIndex: 10000 entries, 0 to 9999\n",
      "Data columns (total 8 columns):\n",
      " #   Column       Non-Null Count  Dtype  \n",
      "---  ------       --------------  -----  \n",
      " 0   Unnamed: 0   10000 non-null  int64  \n",
      " 1   Book         10000 non-null  object \n",
      " 2   Author       10000 non-null  object \n",
      " 3   Description  9923 non-null   object \n",
      " 4   Genres       10000 non-null  object \n",
      " 5   Avg_Rating   10000 non-null  float64\n",
      " 6   Num_Ratings  10000 non-null  object \n",
      " 7   URL          10000 non-null  object \n",
      "dtypes: float64(1), int64(1), object(6)\n",
      "memory usage: 625.1+ KB\n"
     ]
    }
   ],
   "source": [
    "# Vemos la información del primer dataframe\n",
    "df_goodreads.info()"
   ]
  },
  {
   "cell_type": "markdown",
   "id": "de34fa4e-a1d7-4ba1-a67c-c526071ebb47",
   "metadata": {},
   "source": [
    "De esta primera lectura observamos que la columna \"Description\", que es la que presenta nulos, podemos borrarla ya que no aporta ninguna información necesaria a futuro.\n",
    "Del mismo modo podemos eliminar la columna URL."
   ]
  },
  {
   "cell_type": "code",
   "execution_count": 4,
   "id": "e457db95-55ad-466c-910b-28fe3a7cf8fd",
   "metadata": {},
   "outputs": [
    {
     "data": {
      "text/html": [
       "<div>\n",
       "<style scoped>\n",
       "    .dataframe tbody tr th:only-of-type {\n",
       "        vertical-align: middle;\n",
       "    }\n",
       "\n",
       "    .dataframe tbody tr th {\n",
       "        vertical-align: top;\n",
       "    }\n",
       "\n",
       "    .dataframe thead th {\n",
       "        text-align: right;\n",
       "    }\n",
       "</style>\n",
       "<table border=\"1\" class=\"dataframe\">\n",
       "  <thead>\n",
       "    <tr style=\"text-align: right;\">\n",
       "      <th></th>\n",
       "      <th>Unnamed: 0</th>\n",
       "      <th>Book</th>\n",
       "      <th>Author</th>\n",
       "      <th>Genres</th>\n",
       "      <th>Avg_Rating</th>\n",
       "      <th>Num_Ratings</th>\n",
       "    </tr>\n",
       "  </thead>\n",
       "  <tbody>\n",
       "    <tr>\n",
       "      <th>0</th>\n",
       "      <td>0</td>\n",
       "      <td>To Kill a Mockingbird</td>\n",
       "      <td>Harper Lee</td>\n",
       "      <td>['Classics', 'Fiction', 'Historical Fiction', ...</td>\n",
       "      <td>4.27</td>\n",
       "      <td>5,691,311</td>\n",
       "    </tr>\n",
       "    <tr>\n",
       "      <th>1</th>\n",
       "      <td>1</td>\n",
       "      <td>Harry Potter and the Philosopher’s Stone (Harr...</td>\n",
       "      <td>J.K. Rowling</td>\n",
       "      <td>['Fantasy', 'Fiction', 'Young Adult', 'Magic',...</td>\n",
       "      <td>4.47</td>\n",
       "      <td>9,278,135</td>\n",
       "    </tr>\n",
       "    <tr>\n",
       "      <th>2</th>\n",
       "      <td>2</td>\n",
       "      <td>Pride and Prejudice</td>\n",
       "      <td>Jane Austen</td>\n",
       "      <td>['Classics', 'Fiction', 'Romance', 'Historical...</td>\n",
       "      <td>4.28</td>\n",
       "      <td>3,944,155</td>\n",
       "    </tr>\n",
       "    <tr>\n",
       "      <th>3</th>\n",
       "      <td>3</td>\n",
       "      <td>The Diary of a Young Girl</td>\n",
       "      <td>Anne Frank</td>\n",
       "      <td>['Classics', 'Nonfiction', 'History', 'Biograp...</td>\n",
       "      <td>4.18</td>\n",
       "      <td>3,488,438</td>\n",
       "    </tr>\n",
       "    <tr>\n",
       "      <th>4</th>\n",
       "      <td>4</td>\n",
       "      <td>Animal Farm</td>\n",
       "      <td>George Orwell</td>\n",
       "      <td>['Classics', 'Fiction', 'Dystopia', 'Fantasy',...</td>\n",
       "      <td>3.98</td>\n",
       "      <td>3,575,172</td>\n",
       "    </tr>\n",
       "  </tbody>\n",
       "</table>\n",
       "</div>"
      ],
      "text/plain": [
       "   Unnamed: 0                                               Book  \\\n",
       "0           0                              To Kill a Mockingbird   \n",
       "1           1  Harry Potter and the Philosopher’s Stone (Harr...   \n",
       "2           2                                Pride and Prejudice   \n",
       "3           3                          The Diary of a Young Girl   \n",
       "4           4                                        Animal Farm   \n",
       "\n",
       "          Author                                             Genres  \\\n",
       "0     Harper Lee  ['Classics', 'Fiction', 'Historical Fiction', ...   \n",
       "1   J.K. Rowling  ['Fantasy', 'Fiction', 'Young Adult', 'Magic',...   \n",
       "2    Jane Austen  ['Classics', 'Fiction', 'Romance', 'Historical...   \n",
       "3     Anne Frank  ['Classics', 'Nonfiction', 'History', 'Biograp...   \n",
       "4  George Orwell  ['Classics', 'Fiction', 'Dystopia', 'Fantasy',...   \n",
       "\n",
       "   Avg_Rating Num_Ratings  \n",
       "0        4.27   5,691,311  \n",
       "1        4.47   9,278,135  \n",
       "2        4.28   3,944,155  \n",
       "3        4.18   3,488,438  \n",
       "4        3.98   3,575,172  "
      ]
     },
     "execution_count": 4,
     "metadata": {},
     "output_type": "execute_result"
    }
   ],
   "source": [
    "df_goodreads = df_goodreads.drop(columns=['Description','URL'])\n",
    "df_goodreads.head()"
   ]
  },
  {
   "cell_type": "markdown",
   "id": "19976f07-9375-4ea7-9f4c-b95875ab9c40",
   "metadata": {},
   "source": [
    "En cuanto a la columna Num_Ratings debería ser de tipo int y no object, por lo que debemos realizar el cambio."
   ]
  },
  {
   "cell_type": "code",
   "execution_count": 5,
   "id": "70ec0388-c9ac-4bd6-b2a9-189727e7acac",
   "metadata": {},
   "outputs": [
    {
     "data": {
      "text/plain": [
       "0       5,691,311\n",
       "1       9,278,135\n",
       "2       3,944,155\n",
       "3       3,488,438\n",
       "4       3,575,172\n",
       "          ...    \n",
       "9995          276\n",
       "9996           60\n",
       "9997          383\n",
       "9998          263\n",
       "9999           36\n",
       "Name: Num_Ratings, Length: 10000, dtype: object"
      ]
     },
     "execution_count": 5,
     "metadata": {},
     "output_type": "execute_result"
    }
   ],
   "source": [
    "df_goodreads['Num_Ratings']"
   ]
  },
  {
   "cell_type": "code",
   "execution_count": 6,
   "id": "9de8fa31-acee-4553-8f3c-118e97825442",
   "metadata": {},
   "outputs": [],
   "source": [
    "# Quitamos las comas y las sustituimos por nada:\n",
    "df_goodreads['Num_Ratings'] = df_goodreads['Num_Ratings'].str.replace(',', '')\n",
    "\n",
    "# Cambiamos el tipo a int.\n",
    "df_goodreads['Num_Ratings'] = df_goodreads['Num_Ratings'].astype(int)"
   ]
  },
  {
   "cell_type": "code",
   "execution_count": 7,
   "id": "a6c37219-2f93-4ab2-9fe0-2e9d95419d3c",
   "metadata": {},
   "outputs": [
    {
     "name": "stdout",
     "output_type": "stream",
     "text": [
      "<class 'pandas.core.frame.DataFrame'>\n",
      "RangeIndex: 10000 entries, 0 to 9999\n",
      "Data columns (total 6 columns):\n",
      " #   Column       Non-Null Count  Dtype  \n",
      "---  ------       --------------  -----  \n",
      " 0   Unnamed: 0   10000 non-null  int64  \n",
      " 1   Book         10000 non-null  object \n",
      " 2   Author       10000 non-null  object \n",
      " 3   Genres       10000 non-null  object \n",
      " 4   Avg_Rating   10000 non-null  float64\n",
      " 5   Num_Ratings  10000 non-null  int64  \n",
      "dtypes: float64(1), int64(2), object(3)\n",
      "memory usage: 468.9+ KB\n"
     ]
    }
   ],
   "source": [
    "df_goodreads.info()"
   ]
  },
  {
   "cell_type": "markdown",
   "id": "1a932f93-c8b7-4f2c-9ee5-c3cb24461d33",
   "metadata": {},
   "source": [
    "La columna \"Genres\" está formada por una lista de distintos tipos de género.\n",
    "Vamos a suponer que el género principal es el primero que aparece y lo indicaremos en una nueva columna."
   ]
  },
  {
   "cell_type": "code",
   "execution_count": 8,
   "id": "6458be1c-3414-40e5-b628-156e1f5686fe",
   "metadata": {},
   "outputs": [],
   "source": [
    "def obtener_primer_valor(x):\n",
    "    try:\n",
    "        lista = ast.literal_eval(x)  # Convertir la cadena a lista\n",
    "        if len(lista) > 0:  # Verificar si la lista no está vacía\n",
    "            return lista[0]  # Devolver el primer valor\n",
    "        else:\n",
    "            return None  # Si la lista está vacía, devolver None (o cualquier valor por defecto)\n",
    "    except (ValueError, SyntaxError):  # Capturar errores de conversión de cadenas no válidas\n",
    "        return None  # Si la cadena no es válida, devolver None\n",
    "\n",
    "# Aplicar la función a la columna\n",
    "df_goodreads['Principal_Genre'] = df_goodreads['Genres'].apply(obtener_primer_valor)\n"
   ]
  },
  {
   "cell_type": "code",
   "execution_count": 9,
   "id": "1f6ddaf3-f70f-45e6-b497-a7eb4609a36d",
   "metadata": {},
   "outputs": [
    {
     "data": {
      "text/html": [
       "<div>\n",
       "<style scoped>\n",
       "    .dataframe tbody tr th:only-of-type {\n",
       "        vertical-align: middle;\n",
       "    }\n",
       "\n",
       "    .dataframe tbody tr th {\n",
       "        vertical-align: top;\n",
       "    }\n",
       "\n",
       "    .dataframe thead th {\n",
       "        text-align: right;\n",
       "    }\n",
       "</style>\n",
       "<table border=\"1\" class=\"dataframe\">\n",
       "  <thead>\n",
       "    <tr style=\"text-align: right;\">\n",
       "      <th></th>\n",
       "      <th>Unnamed: 0</th>\n",
       "      <th>Book</th>\n",
       "      <th>Author</th>\n",
       "      <th>Genres</th>\n",
       "      <th>Avg_Rating</th>\n",
       "      <th>Num_Ratings</th>\n",
       "      <th>Principal_Genre</th>\n",
       "    </tr>\n",
       "  </thead>\n",
       "  <tbody>\n",
       "    <tr>\n",
       "      <th>0</th>\n",
       "      <td>0</td>\n",
       "      <td>To Kill a Mockingbird</td>\n",
       "      <td>Harper Lee</td>\n",
       "      <td>['Classics', 'Fiction', 'Historical Fiction', ...</td>\n",
       "      <td>4.27</td>\n",
       "      <td>5691311</td>\n",
       "      <td>Classics</td>\n",
       "    </tr>\n",
       "    <tr>\n",
       "      <th>1</th>\n",
       "      <td>1</td>\n",
       "      <td>Harry Potter and the Philosopher’s Stone (Harr...</td>\n",
       "      <td>J.K. Rowling</td>\n",
       "      <td>['Fantasy', 'Fiction', 'Young Adult', 'Magic',...</td>\n",
       "      <td>4.47</td>\n",
       "      <td>9278135</td>\n",
       "      <td>Fantasy</td>\n",
       "    </tr>\n",
       "    <tr>\n",
       "      <th>2</th>\n",
       "      <td>2</td>\n",
       "      <td>Pride and Prejudice</td>\n",
       "      <td>Jane Austen</td>\n",
       "      <td>['Classics', 'Fiction', 'Romance', 'Historical...</td>\n",
       "      <td>4.28</td>\n",
       "      <td>3944155</td>\n",
       "      <td>Classics</td>\n",
       "    </tr>\n",
       "    <tr>\n",
       "      <th>3</th>\n",
       "      <td>3</td>\n",
       "      <td>The Diary of a Young Girl</td>\n",
       "      <td>Anne Frank</td>\n",
       "      <td>['Classics', 'Nonfiction', 'History', 'Biograp...</td>\n",
       "      <td>4.18</td>\n",
       "      <td>3488438</td>\n",
       "      <td>Classics</td>\n",
       "    </tr>\n",
       "    <tr>\n",
       "      <th>4</th>\n",
       "      <td>4</td>\n",
       "      <td>Animal Farm</td>\n",
       "      <td>George Orwell</td>\n",
       "      <td>['Classics', 'Fiction', 'Dystopia', 'Fantasy',...</td>\n",
       "      <td>3.98</td>\n",
       "      <td>3575172</td>\n",
       "      <td>Classics</td>\n",
       "    </tr>\n",
       "    <tr>\n",
       "      <th>5</th>\n",
       "      <td>5</td>\n",
       "      <td>The Little Prince</td>\n",
       "      <td>Antoine de Saint-Exupéry</td>\n",
       "      <td>['Classics', 'Fiction', 'Fantasy', 'Childrens'...</td>\n",
       "      <td>4.32</td>\n",
       "      <td>1924063</td>\n",
       "      <td>Classics</td>\n",
       "    </tr>\n",
       "    <tr>\n",
       "      <th>6</th>\n",
       "      <td>6</td>\n",
       "      <td>1984</td>\n",
       "      <td>George Orwell</td>\n",
       "      <td>['Classics', 'Fiction', 'Science Fiction', 'Dy...</td>\n",
       "      <td>4.19</td>\n",
       "      <td>4201429</td>\n",
       "      <td>Classics</td>\n",
       "    </tr>\n",
       "    <tr>\n",
       "      <th>7</th>\n",
       "      <td>7</td>\n",
       "      <td>The Great Gatsby</td>\n",
       "      <td>F. Scott Fitzgerald</td>\n",
       "      <td>['Classics', 'Fiction', 'School', 'Historical ...</td>\n",
       "      <td>3.93</td>\n",
       "      <td>4839642</td>\n",
       "      <td>Classics</td>\n",
       "    </tr>\n",
       "    <tr>\n",
       "      <th>8</th>\n",
       "      <td>8</td>\n",
       "      <td>The Catcher in the Rye</td>\n",
       "      <td>J.D. Salinger</td>\n",
       "      <td>['Classics', 'Fiction', 'Young Adult', 'Litera...</td>\n",
       "      <td>3.81</td>\n",
       "      <td>3315881</td>\n",
       "      <td>Classics</td>\n",
       "    </tr>\n",
       "    <tr>\n",
       "      <th>9</th>\n",
       "      <td>9</td>\n",
       "      <td>The Lord of the Rings</td>\n",
       "      <td>J.R.R. Tolkien</td>\n",
       "      <td>['Fantasy', 'Classics', 'Fiction', 'Adventure'...</td>\n",
       "      <td>4.52</td>\n",
       "      <td>644766</td>\n",
       "      <td>Fantasy</td>\n",
       "    </tr>\n",
       "  </tbody>\n",
       "</table>\n",
       "</div>"
      ],
      "text/plain": [
       "   Unnamed: 0                                               Book  \\\n",
       "0           0                              To Kill a Mockingbird   \n",
       "1           1  Harry Potter and the Philosopher’s Stone (Harr...   \n",
       "2           2                                Pride and Prejudice   \n",
       "3           3                          The Diary of a Young Girl   \n",
       "4           4                                        Animal Farm   \n",
       "5           5                                  The Little Prince   \n",
       "6           6                                               1984   \n",
       "7           7                                   The Great Gatsby   \n",
       "8           8                             The Catcher in the Rye   \n",
       "9           9                              The Lord of the Rings   \n",
       "\n",
       "                     Author  \\\n",
       "0                Harper Lee   \n",
       "1              J.K. Rowling   \n",
       "2               Jane Austen   \n",
       "3                Anne Frank   \n",
       "4             George Orwell   \n",
       "5  Antoine de Saint-Exupéry   \n",
       "6             George Orwell   \n",
       "7       F. Scott Fitzgerald   \n",
       "8             J.D. Salinger   \n",
       "9            J.R.R. Tolkien   \n",
       "\n",
       "                                              Genres  Avg_Rating  Num_Ratings  \\\n",
       "0  ['Classics', 'Fiction', 'Historical Fiction', ...        4.27      5691311   \n",
       "1  ['Fantasy', 'Fiction', 'Young Adult', 'Magic',...        4.47      9278135   \n",
       "2  ['Classics', 'Fiction', 'Romance', 'Historical...        4.28      3944155   \n",
       "3  ['Classics', 'Nonfiction', 'History', 'Biograp...        4.18      3488438   \n",
       "4  ['Classics', 'Fiction', 'Dystopia', 'Fantasy',...        3.98      3575172   \n",
       "5  ['Classics', 'Fiction', 'Fantasy', 'Childrens'...        4.32      1924063   \n",
       "6  ['Classics', 'Fiction', 'Science Fiction', 'Dy...        4.19      4201429   \n",
       "7  ['Classics', 'Fiction', 'School', 'Historical ...        3.93      4839642   \n",
       "8  ['Classics', 'Fiction', 'Young Adult', 'Litera...        3.81      3315881   \n",
       "9  ['Fantasy', 'Classics', 'Fiction', 'Adventure'...        4.52       644766   \n",
       "\n",
       "  Principal_Genre  \n",
       "0        Classics  \n",
       "1         Fantasy  \n",
       "2        Classics  \n",
       "3        Classics  \n",
       "4        Classics  \n",
       "5        Classics  \n",
       "6        Classics  \n",
       "7        Classics  \n",
       "8        Classics  \n",
       "9         Fantasy  "
      ]
     },
     "execution_count": 9,
     "metadata": {},
     "output_type": "execute_result"
    }
   ],
   "source": [
    "df_goodreads.head(10)"
   ]
  },
  {
   "cell_type": "code",
   "execution_count": 10,
   "id": "3e25a5ff-5b5d-4833-b1e2-a47ff1a9b9bf",
   "metadata": {},
   "outputs": [
    {
     "data": {
      "text/plain": [
       "Principal_Genre\n",
       "Fiction               1711\n",
       "Nonfiction             957\n",
       "Fantasy                942\n",
       "Classics               515\n",
       "Historical Fiction     467\n",
       "                      ... \n",
       "Fae                      1\n",
       "Womens                   1\n",
       "Military History         1\n",
       "Wicca                    1\n",
       "Civil War                1\n",
       "Name: count, Length: 207, dtype: int64"
      ]
     },
     "execution_count": 10,
     "metadata": {},
     "output_type": "execute_result"
    }
   ],
   "source": [
    "# Observamos cuáles son los valores de la nueva columna\n",
    "df_goodreads['Principal_Genre'].value_counts()"
   ]
  },
  {
   "cell_type": "markdown",
   "id": "8af64536-b38e-438b-a5d3-8be6d0e7c1b1",
   "metadata": {},
   "source": [
    "Existe géneros que seguramente se puedan agrupar en otros, por ejemplo Military History o Civil War podrían ser libros de género Histórico o Fae podría ser fantasía."
   ]
  },
  {
   "cell_type": "code",
   "execution_count": 11,
   "id": "65ac2de5-dde0-42fa-ad20-72fc9bed6d05",
   "metadata": {},
   "outputs": [
    {
     "data": {
      "text/html": [
       "<div>\n",
       "<style scoped>\n",
       "    .dataframe tbody tr th:only-of-type {\n",
       "        vertical-align: middle;\n",
       "    }\n",
       "\n",
       "    .dataframe tbody tr th {\n",
       "        vertical-align: top;\n",
       "    }\n",
       "\n",
       "    .dataframe thead th {\n",
       "        text-align: right;\n",
       "    }\n",
       "</style>\n",
       "<table border=\"1\" class=\"dataframe\">\n",
       "  <thead>\n",
       "    <tr style=\"text-align: right;\">\n",
       "      <th></th>\n",
       "      <th>Unnamed: 0</th>\n",
       "      <th>Book</th>\n",
       "      <th>Author</th>\n",
       "      <th>Genres</th>\n",
       "      <th>Avg_Rating</th>\n",
       "      <th>Num_Ratings</th>\n",
       "      <th>Principal_Genre</th>\n",
       "    </tr>\n",
       "  </thead>\n",
       "  <tbody>\n",
       "    <tr>\n",
       "      <th>9587</th>\n",
       "      <td>9587</td>\n",
       "      <td>Night of the Fae (Ana Martin #1)</td>\n",
       "      <td>Lyneal Jenkins</td>\n",
       "      <td>['Fae', 'Paranormal', 'Romance', 'Urban Fantas...</td>\n",
       "      <td>3.73</td>\n",
       "      <td>174</td>\n",
       "      <td>Fae</td>\n",
       "    </tr>\n",
       "    <tr>\n",
       "      <th>9666</th>\n",
       "      <td>9666</td>\n",
       "      <td>Roots and Shadows</td>\n",
       "      <td>Shashi Deshpande</td>\n",
       "      <td>['Womens']</td>\n",
       "      <td>3.26</td>\n",
       "      <td>139</td>\n",
       "      <td>Womens</td>\n",
       "    </tr>\n",
       "    <tr>\n",
       "      <th>9683</th>\n",
       "      <td>9683</td>\n",
       "      <td>Passchendaele: The Anatomy of a Tragedy</td>\n",
       "      <td>Andrew  Macdonald</td>\n",
       "      <td>['Military History', 'History']</td>\n",
       "      <td>4.00</td>\n",
       "      <td>16</td>\n",
       "      <td>Military History</td>\n",
       "    </tr>\n",
       "    <tr>\n",
       "      <th>9858</th>\n",
       "      <td>9858</td>\n",
       "      <td>Wicca: A Guide for the Solitary Practitioner</td>\n",
       "      <td>Scott Cunningham</td>\n",
       "      <td>['Wicca', 'Nonfiction', 'Witchcraft', 'Spiritu...</td>\n",
       "      <td>4.02</td>\n",
       "      <td>18913</td>\n",
       "      <td>Wicca</td>\n",
       "    </tr>\n",
       "    <tr>\n",
       "      <th>9947</th>\n",
       "      <td>9947</td>\n",
       "      <td>What They Did There: Profiles from the Battle ...</td>\n",
       "      <td>Steve Hedgpeth</td>\n",
       "      <td>['Civil War', 'History', 'Military Fiction', '...</td>\n",
       "      <td>3.97</td>\n",
       "      <td>178</td>\n",
       "      <td>Civil War</td>\n",
       "    </tr>\n",
       "  </tbody>\n",
       "</table>\n",
       "</div>"
      ],
      "text/plain": [
       "      Unnamed: 0                                               Book  \\\n",
       "9587        9587                   Night of the Fae (Ana Martin #1)   \n",
       "9666        9666                                  Roots and Shadows   \n",
       "9683        9683            Passchendaele: The Anatomy of a Tragedy   \n",
       "9858        9858       Wicca: A Guide for the Solitary Practitioner   \n",
       "9947        9947  What They Did There: Profiles from the Battle ...   \n",
       "\n",
       "                 Author                                             Genres  \\\n",
       "9587     Lyneal Jenkins  ['Fae', 'Paranormal', 'Romance', 'Urban Fantas...   \n",
       "9666   Shashi Deshpande                                         ['Womens']   \n",
       "9683  Andrew  Macdonald                    ['Military History', 'History']   \n",
       "9858   Scott Cunningham  ['Wicca', 'Nonfiction', 'Witchcraft', 'Spiritu...   \n",
       "9947     Steve Hedgpeth  ['Civil War', 'History', 'Military Fiction', '...   \n",
       "\n",
       "      Avg_Rating  Num_Ratings   Principal_Genre  \n",
       "9587        3.73          174               Fae  \n",
       "9666        3.26          139            Womens  \n",
       "9683        4.00           16  Military History  \n",
       "9858        4.02        18913             Wicca  \n",
       "9947        3.97          178         Civil War  "
      ]
     },
     "execution_count": 11,
     "metadata": {},
     "output_type": "execute_result"
    }
   ],
   "source": [
    "# Observamos que libros son:\n",
    "generos_filtrados = 'Fae', 'Womens', 'Military History', 'Wicca', 'Civil War'\n",
    "df_goodreads[df_goodreads['Principal_Genre'].isin(generos_filtrados)]"
   ]
  },
  {
   "cell_type": "code",
   "execution_count": 12,
   "id": "77dada67-e39e-4c13-b19e-459394812eca",
   "metadata": {},
   "outputs": [],
   "source": [
    "df_goodreads['Principal_Genre'] = df_goodreads['Principal_Genre'].replace({'Civil War': 'History', 'Military History': 'History'})"
   ]
  },
  {
   "cell_type": "code",
   "execution_count": 13,
   "id": "48c79388-915f-461c-b88b-8b92367bca86",
   "metadata": {},
   "outputs": [
    {
     "data": {
      "text/plain": [
       "Principal_Genre\n",
       "Fiction               1711\n",
       "Nonfiction             957\n",
       "Fantasy                942\n",
       "Classics               515\n",
       "Historical Fiction     467\n",
       "                      ... \n",
       "Cultural                 1\n",
       "Fae                      1\n",
       "Horses                   1\n",
       "Womens                   1\n",
       "Wicca                    1\n",
       "Name: count, Length: 205, dtype: int64"
      ]
     },
     "execution_count": 13,
     "metadata": {},
     "output_type": "execute_result"
    }
   ],
   "source": [
    "df_goodreads['Principal_Genre'].value_counts()"
   ]
  },
  {
   "cell_type": "code",
   "execution_count": 14,
   "id": "abd01dbe-0dec-4807-9250-a9fe7fc55957",
   "metadata": {},
   "outputs": [
    {
     "data": {
      "text/plain": [
       "Principal_Genre\n",
       "Fairy Tales             1\n",
       "Social Justice          1\n",
       "Survival                1\n",
       "Personal Development    1\n",
       "Communication           1\n",
       "                       ..\n",
       "Cultural                1\n",
       "Fae                     1\n",
       "Horses                  1\n",
       "Womens                  1\n",
       "Wicca                   1\n",
       "Name: count, Length: 75, dtype: int64"
      ]
     },
     "execution_count": 14,
     "metadata": {},
     "output_type": "execute_result"
    }
   ],
   "source": [
    "# Como sigue habiendo muchos géneros con un solo valor vamos a analizar cuáles son para poder limpiarlo lo máximo posible\n",
    "\n",
    "# Obtener los valores con un recuento de 1\n",
    "generos = df_goodreads['Principal_Genre'].value_counts()\n",
    "generos_unicos = generos[generos == 1]\n",
    "\n",
    "# Ver los valores con recuento 1\n",
    "generos_unicos"
   ]
  },
  {
   "cell_type": "code",
   "execution_count": 15,
   "id": "a4b42764-a81a-4f47-b87f-4cbc3cd6e94c",
   "metadata": {},
   "outputs": [
    {
     "data": {
      "text/html": [
       "<div>\n",
       "<style scoped>\n",
       "    .dataframe tbody tr th:only-of-type {\n",
       "        vertical-align: middle;\n",
       "    }\n",
       "\n",
       "    .dataframe tbody tr th {\n",
       "        vertical-align: top;\n",
       "    }\n",
       "\n",
       "    .dataframe thead th {\n",
       "        text-align: right;\n",
       "    }\n",
       "</style>\n",
       "<table border=\"1\" class=\"dataframe\">\n",
       "  <thead>\n",
       "    <tr style=\"text-align: right;\">\n",
       "      <th></th>\n",
       "      <th>Unnamed: 0</th>\n",
       "      <th>Book</th>\n",
       "      <th>Author</th>\n",
       "      <th>Genres</th>\n",
       "      <th>Avg_Rating</th>\n",
       "      <th>Num_Ratings</th>\n",
       "      <th>Principal_Genre</th>\n",
       "    </tr>\n",
       "  </thead>\n",
       "  <tbody>\n",
       "    <tr>\n",
       "      <th>570</th>\n",
       "      <td>570</td>\n",
       "      <td>Lies My Teacher Told Me: Everything Your Ameri...</td>\n",
       "      <td>James W. Loewen</td>\n",
       "      <td>['Social Justice', 'History', 'Race', 'Audiobo...</td>\n",
       "      <td>3.97</td>\n",
       "      <td>66778</td>\n",
       "      <td>Social Justice</td>\n",
       "    </tr>\n",
       "    <tr>\n",
       "      <th>611</th>\n",
       "      <td>611</td>\n",
       "      <td>Walks Away Woman</td>\n",
       "      <td>Ki Longfellow</td>\n",
       "      <td>['Survival', 'Adventure', 'Fiction', 'Novels',...</td>\n",
       "      <td>4.37</td>\n",
       "      <td>1143</td>\n",
       "      <td>Survival</td>\n",
       "    </tr>\n",
       "    <tr>\n",
       "      <th>805</th>\n",
       "      <td>805</td>\n",
       "      <td>Take Command: Find Your Inner Strength, Build ...</td>\n",
       "      <td>Joe   Hart</td>\n",
       "      <td>['Personal Development', 'Self Help', 'Nonfict...</td>\n",
       "      <td>4.27</td>\n",
       "      <td>4498</td>\n",
       "      <td>Personal Development</td>\n",
       "    </tr>\n",
       "    <tr>\n",
       "      <th>2471</th>\n",
       "      <td>2471</td>\n",
       "      <td>Magic America</td>\n",
       "      <td>C.E. Medford</td>\n",
       "      <td>['Magical Realism', 'Fantasy', 'Fiction', 'You...</td>\n",
       "      <td>3.82</td>\n",
       "      <td>356</td>\n",
       "      <td>Magical Realism</td>\n",
       "    </tr>\n",
       "    <tr>\n",
       "      <th>3529</th>\n",
       "      <td>3529</td>\n",
       "      <td>Being the Bad Boy's Victim</td>\n",
       "      <td>Claire Monette</td>\n",
       "      <td>['High School', 'Contemporary', 'Romance', 'Sc...</td>\n",
       "      <td>3.79</td>\n",
       "      <td>319</td>\n",
       "      <td>High School</td>\n",
       "    </tr>\n",
       "    <tr>\n",
       "      <th>9353</th>\n",
       "      <td>9353</td>\n",
       "      <td>The Town That Drowned</td>\n",
       "      <td>Riel Nason</td>\n",
       "      <td>['Canada', 'Young Adult', 'Historical Fiction'...</td>\n",
       "      <td>3.81</td>\n",
       "      <td>764</td>\n",
       "      <td>Canada</td>\n",
       "    </tr>\n",
       "    <tr>\n",
       "      <th>9455</th>\n",
       "      <td>9455</td>\n",
       "      <td>Tastes and Tales from Russia</td>\n",
       "      <td>Alla Danishevsky</td>\n",
       "      <td>['Cooking', 'Food', 'Cookbooks']</td>\n",
       "      <td>4.50</td>\n",
       "      <td>12</td>\n",
       "      <td>Cooking</td>\n",
       "    </tr>\n",
       "    <tr>\n",
       "      <th>9610</th>\n",
       "      <td>9610</td>\n",
       "      <td>Casual Lies-A Triple Crown Adventure</td>\n",
       "      <td>Shelley Lee Riley</td>\n",
       "      <td>['Horses', 'Animals', 'Nonfiction']</td>\n",
       "      <td>4.47</td>\n",
       "      <td>32</td>\n",
       "      <td>Horses</td>\n",
       "    </tr>\n",
       "  </tbody>\n",
       "</table>\n",
       "</div>"
      ],
      "text/plain": [
       "      Unnamed: 0                                               Book  \\\n",
       "570          570  Lies My Teacher Told Me: Everything Your Ameri...   \n",
       "611          611                                   Walks Away Woman   \n",
       "805          805  Take Command: Find Your Inner Strength, Build ...   \n",
       "2471        2471                                      Magic America   \n",
       "3529        3529                         Being the Bad Boy's Victim   \n",
       "9353        9353                              The Town That Drowned   \n",
       "9455        9455                       Tastes and Tales from Russia   \n",
       "9610        9610               Casual Lies-A Triple Crown Adventure   \n",
       "\n",
       "                 Author                                             Genres  \\\n",
       "570     James W. Loewen  ['Social Justice', 'History', 'Race', 'Audiobo...   \n",
       "611       Ki Longfellow  ['Survival', 'Adventure', 'Fiction', 'Novels',...   \n",
       "805          Joe   Hart  ['Personal Development', 'Self Help', 'Nonfict...   \n",
       "2471       C.E. Medford  ['Magical Realism', 'Fantasy', 'Fiction', 'You...   \n",
       "3529     Claire Monette  ['High School', 'Contemporary', 'Romance', 'Sc...   \n",
       "9353         Riel Nason  ['Canada', 'Young Adult', 'Historical Fiction'...   \n",
       "9455   Alla Danishevsky                   ['Cooking', 'Food', 'Cookbooks']   \n",
       "9610  Shelley Lee Riley                ['Horses', 'Animals', 'Nonfiction']   \n",
       "\n",
       "      Avg_Rating  Num_Ratings       Principal_Genre  \n",
       "570         3.97        66778        Social Justice  \n",
       "611         4.37         1143              Survival  \n",
       "805         4.27         4498  Personal Development  \n",
       "2471        3.82          356       Magical Realism  \n",
       "3529        3.79          319           High School  \n",
       "9353        3.81          764                Canada  \n",
       "9455        4.50           12               Cooking  \n",
       "9610        4.47           32                Horses  "
      ]
     },
     "execution_count": 15,
     "metadata": {},
     "output_type": "execute_result"
    }
   ],
   "source": [
    "generos_filtrados = 'Survival', 'Social Justice', 'Personal Development', 'High School', 'Magical Realism', 'Canada', 'Cooking', 'Horses'\n",
    "df_goodreads[df_goodreads['Principal_Genre'].isin(generos_filtrados)]"
   ]
  },
  {
   "cell_type": "code",
   "execution_count": 16,
   "id": "4d7ae4d2-8d9f-4b4c-b47d-9f6e5be46de1",
   "metadata": {},
   "outputs": [],
   "source": [
    "reemplazar = {'Social Justice': 'History','Survival': 'Adventure', 'Personal Development': 'Self Help',\n",
    "              'High School': 'Romance', 'Canada': 'Historical Fiction', 'Comedy' : 'Humor','Judaism' : 'Religion',\n",
    "               'Horses': 'Animals', 'Linguistics' : 'Linguistics', 'Transgender' : 'Memoir', 'Linguistics' : 'Philosophy',\n",
    "             'Juvenile': 'Young Adult', 'Kids' : 'Childrens', 'Gaming' : 'Business', 'Suspense': 'Thriller', 'Light Novel' : 'Manga',\n",
    "             'Architecture': 'Design', 'Shapeshifters' : 'Paranormal', 'comunication': 'Psychology', 'Gender': 'Feminism',\n",
    "             'Pulp': 'Amazon', 'Marathi':'Mythology', 'Adult': 'New Adult', 'Anthropology': 'Essays', 'Ukrainian Literature': 'Classics',\n",
    "             'Literary Criticism': 'Literature', 'Medicine': 'Medical', 'Portugal': 'Short Stories', 'Geology': 'Science' }\n",
    "\n",
    "df_goodreads['Principal_Genre'] = df_goodreads['Principal_Genre'].replace(reemplazar)"
   ]
  },
  {
   "cell_type": "code",
   "execution_count": 17,
   "id": "93dd9dd0-02c2-4cfd-82e0-7677d59e7164",
   "metadata": {},
   "outputs": [],
   "source": [
    "df_goodreads['Principal_Genre'] = df_goodreads['Principal_Genre'].replace(\n",
    "    to_replace=r'.*(Love|Romance|Teen).*',  # Expresión regular para encontrar \"love\",\"romance\", etc\n",
    "    value='Romance',                   # Nuevo valor\n",
    "    regex=True                         # Usar regex\n",
    ")\n",
    "\n",
    "\n",
    "df_goodreads['Principal_Genre'] = df_goodreads['Principal_Genre'].replace(\n",
    "    to_replace=r'.*(Literary Fiction|Cyberpunk|Speculative Fiction|Womens Fiction|Russia|German Literature|African American|Indian Literature|Indian Literature ).*',  # Expresión regular para encontrar \"love\" o \"romance\"\n",
    "    value='Fiction',                   # Nuevo valor\n",
    "    regex=True                         # Usar regex\n",
    ")\n",
    "\n",
    "\n",
    "df_goodreads['Principal_Genre'] = df_goodreads['Principal_Genre'].replace(\n",
    "    to_replace=r'.*(Magical Realism|Gods|Angels|Fae|Fairy Tales|Epic Fantasy|Lds).*',  \n",
    "    value='Fantasy',                   # Nuevo valor\n",
    "    regex=True                         # Usar regex\n",
    ")\n",
    "\n",
    "df_goodreads['Principal_Genre'] = df_goodreads['Principal_Genre'].replace(\n",
    "    to_replace=r'.*(Cooking|Vegetarian).*', \n",
    "    value='Food',                   # Nuevo valor\n",
    "    regex=True                         # Usar regex\n",
    ")\n",
    "\n",
    "df_goodreads['Principal_Genre'] = df_goodreads['Principal_Genre'].replace(\n",
    "    to_replace=r'.*(Christian Non Fiction|Non Fiction|Race|Death|Film|Law|Martial Arts|Prayer).*', \n",
    "    value='Nonfiction',                   # Nuevo valor\n",
    "    regex=True                         # Usar regex\n",
    ")"
   ]
  },
  {
   "cell_type": "code",
   "execution_count": 18,
   "id": "fc2e1d64-327c-4785-af9e-888213b2197b",
   "metadata": {},
   "outputs": [
    {
     "data": {
      "text/plain": [
       "Index(['Communication', 'Gothic', 'Banned Books', 'Mathematics', 'Egypt',\n",
       "       'Magic', 'Media Tie In', 'Abuse', 'Sustainability', 'Biography Memoir',\n",
       "       'Amish', 'Adoption', 'Cultural', 'Womens', 'Wicca'],\n",
       "      dtype='object', name='Principal_Genre')"
      ]
     },
     "execution_count": 18,
     "metadata": {},
     "output_type": "execute_result"
    }
   ],
   "source": [
    "generos = df_goodreads['Principal_Genre'].value_counts()\n",
    "generos_unicos = generos[generos == 1]\n",
    "\n",
    "# Ver los valores con recuento 1\n",
    "generos_unicos.index"
   ]
  },
  {
   "cell_type": "code",
   "execution_count": 19,
   "id": "facb53b2-8947-44cb-82d2-46a079bec988",
   "metadata": {},
   "outputs": [
    {
     "data": {
      "text/html": [
       "<div>\n",
       "<style scoped>\n",
       "    .dataframe tbody tr th:only-of-type {\n",
       "        vertical-align: middle;\n",
       "    }\n",
       "\n",
       "    .dataframe tbody tr th {\n",
       "        vertical-align: top;\n",
       "    }\n",
       "\n",
       "    .dataframe thead th {\n",
       "        text-align: right;\n",
       "    }\n",
       "</style>\n",
       "<table border=\"1\" class=\"dataframe\">\n",
       "  <thead>\n",
       "    <tr style=\"text-align: right;\">\n",
       "      <th></th>\n",
       "      <th>Unnamed: 0</th>\n",
       "      <th>Book</th>\n",
       "      <th>Author</th>\n",
       "      <th>Genres</th>\n",
       "      <th>Avg_Rating</th>\n",
       "      <th>Num_Ratings</th>\n",
       "      <th>Principal_Genre</th>\n",
       "    </tr>\n",
       "  </thead>\n",
       "  <tbody>\n",
       "    <tr>\n",
       "      <th>5749</th>\n",
       "      <td>5749</td>\n",
       "      <td>Diet for a Small Planet</td>\n",
       "      <td>Frances Moore Lappé</td>\n",
       "      <td>['Food', 'Nonfiction', 'Cookbooks', 'Health', ...</td>\n",
       "      <td>3.96</td>\n",
       "      <td>6006</td>\n",
       "      <td>Food</td>\n",
       "    </tr>\n",
       "    <tr>\n",
       "      <th>7922</th>\n",
       "      <td>7922</td>\n",
       "      <td>Mindful Eating with delicious raw vegan recipe...</td>\n",
       "      <td>Nataša Pantović</td>\n",
       "      <td>['Vegetarian', 'Vegan', 'Self Help', 'Nonficti...</td>\n",
       "      <td>4.75</td>\n",
       "      <td>36</td>\n",
       "      <td>Food</td>\n",
       "    </tr>\n",
       "    <tr>\n",
       "      <th>9455</th>\n",
       "      <td>9455</td>\n",
       "      <td>Tastes and Tales from Russia</td>\n",
       "      <td>Alla Danishevsky</td>\n",
       "      <td>['Cooking', 'Food', 'Cookbooks']</td>\n",
       "      <td>4.50</td>\n",
       "      <td>12</td>\n",
       "      <td>Food</td>\n",
       "    </tr>\n",
       "    <tr>\n",
       "      <th>9551</th>\n",
       "      <td>9551</td>\n",
       "      <td>Hands on Health: Take Your Vibrant, Whole Heal...</td>\n",
       "      <td>Paula M. Youmell</td>\n",
       "      <td>['Food', 'Health']</td>\n",
       "      <td>4.46</td>\n",
       "      <td>13</td>\n",
       "      <td>Food</td>\n",
       "    </tr>\n",
       "  </tbody>\n",
       "</table>\n",
       "</div>"
      ],
      "text/plain": [
       "      Unnamed: 0                                               Book  \\\n",
       "5749        5749                            Diet for a Small Planet   \n",
       "7922        7922  Mindful Eating with delicious raw vegan recipe...   \n",
       "9455        9455                       Tastes and Tales from Russia   \n",
       "9551        9551  Hands on Health: Take Your Vibrant, Whole Heal...   \n",
       "\n",
       "                   Author                                             Genres  \\\n",
       "5749  Frances Moore Lappé  ['Food', 'Nonfiction', 'Cookbooks', 'Health', ...   \n",
       "7922      Nataša Pantović  ['Vegetarian', 'Vegan', 'Self Help', 'Nonficti...   \n",
       "9455     Alla Danishevsky                   ['Cooking', 'Food', 'Cookbooks']   \n",
       "9551     Paula M. Youmell                                 ['Food', 'Health']   \n",
       "\n",
       "      Avg_Rating  Num_Ratings Principal_Genre  \n",
       "5749        3.96         6006            Food  \n",
       "7922        4.75           36            Food  \n",
       "9455        4.50           12            Food  \n",
       "9551        4.46           13            Food  "
      ]
     },
     "execution_count": 19,
     "metadata": {},
     "output_type": "execute_result"
    }
   ],
   "source": [
    "df_goodreads[df_goodreads['Principal_Genre'] == 'Food']"
   ]
  },
  {
   "cell_type": "markdown",
   "id": "4211f74e-f6bb-493e-a925-0be04652299e",
   "metadata": {},
   "source": [
    "Una vez están todos los datos lo más limpios posibles procedemos a sacar los principales análisis"
   ]
  },
  {
   "cell_type": "code",
   "execution_count": 20,
   "id": "3089ae0c-bd93-4da5-af95-62d838a9a3d0",
   "metadata": {},
   "outputs": [
    {
     "data": {
      "text/plain": [
       "143"
      ]
     },
     "execution_count": 20,
     "metadata": {},
     "output_type": "execute_result"
    }
   ],
   "source": [
    "# Obtenemos con cuántos géneros literarios nos hemos quedado:\n",
    "genero_unicos = df_goodreads['Principal_Genre'].nunique()\n",
    "genero_unicos"
   ]
  },
  {
   "cell_type": "code",
   "execution_count": 21,
   "id": "0fe2115e-6da6-4ef6-aaf5-bc82d3abb427",
   "metadata": {},
   "outputs": [
    {
     "data": {
      "text/plain": [
       "Principal_Genre\n",
       "Fiction               1719\n",
       "Nonfiction             964\n",
       "Fantasy                949\n",
       "Classics               516\n",
       "Historical Fiction     468\n",
       "Young Adult            387\n",
       "Mystery                387\n",
       "Romance                360\n",
       "Science Fiction        325\n",
       "History                200\n",
       "Name: count, dtype: int64"
      ]
     },
     "execution_count": 21,
     "metadata": {},
     "output_type": "execute_result"
    }
   ],
   "source": [
    "# Como siguen siendo muchos me interesa saber cuáles son los 10 géneros literarios más comunes.\n",
    "generos_mas_comunes = df_goodreads['Principal_Genre'].value_counts().head(10)\n",
    "generos_mas_comunes"
   ]
  },
  {
   "cell_type": "code",
   "execution_count": 22,
   "id": "7f07f51c-cabc-4941-9a02-eb898ed05026",
   "metadata": {},
   "outputs": [
    {
     "data": {
      "text/plain": [
       "Principal_Genre\n",
       "Fiction               175578778\n",
       "Fantasy               173531391\n",
       "Classics              129712984\n",
       "Young Adult           119870102\n",
       "Nonfiction             69348101\n",
       "Historical Fiction     43641973\n",
       "Romance                37869952\n",
       "Science Fiction        29504390\n",
       "Mystery                29246027\n",
       "Horror                 19843638\n",
       "Name: Num_Ratings, dtype: int64"
      ]
     },
     "execution_count": 22,
     "metadata": {},
     "output_type": "execute_result"
    }
   ],
   "source": [
    "cantidad_lecturas = df_goodreads.groupby('Principal_Genre')['Num_Ratings'].sum().sort_values(ascending=False).head(10)\n",
    "cantidad_lecturas"
   ]
  },
  {
   "cell_type": "markdown",
   "id": "ec49b9ca-f535-4c0f-b104-fa2f431bb952",
   "metadata": {},
   "source": [
    "### La primera observación que tenemos es que los géneros más leídos coinciden en su mayoría con los géneros más publicados."
   ]
  },
  {
   "cell_type": "markdown",
   "id": "3d7bb566-3c3d-4319-9a6b-35ffcb2c7558",
   "metadata": {},
   "source": [
    "A continuación vamos a observar qué sucede con las puntuaciones según los géneros principales. Para ello debemos crear una columna que tenga en cuenta tanto la puntuación como el total de lecturas."
   ]
  },
  {
   "cell_type": "code",
   "execution_count": 23,
   "id": "a2cae5a7-c652-46b0-bce3-5ecfe256cee7",
   "metadata": {},
   "outputs": [
    {
     "data": {
      "text/plain": [
       "Principal_Genre\n",
       "Anthologies                4.580000\n",
       "Animals                    4.316364\n",
       "Artificial Intelligence    4.280000\n",
       "Adventure                  4.278000\n",
       "Amish                      4.200000\n",
       "Amazon                     4.115000\n",
       "Adoption                   4.070000\n",
       "Abuse                      4.070000\n",
       "Africa                     4.015000\n",
       "Art                        3.871250\n",
       "Name: Avg_Rating, dtype: float64"
      ]
     },
     "execution_count": 23,
     "metadata": {},
     "output_type": "execute_result"
    }
   ],
   "source": [
    "media_valoraciones = df_goodreads.groupby('Principal_Genre')['Avg_Rating'].mean().head(10).sort_values(ascending = False)\n",
    "media_valoraciones"
   ]
  },
  {
   "cell_type": "markdown",
   "id": "b205ec27-d4db-4971-acf1-01e8c0555c41",
   "metadata": {},
   "source": [
    "Si simplemente vemos cuáles son los géneros de mayor puntuación se verán favorecidos aquellos géneros que se leen menos."
   ]
  },
  {
   "cell_type": "markdown",
   "id": "a4f7f452-d91f-4db1-bb1c-7573c9a3cd7a",
   "metadata": {},
   "source": [
    "Creamos un dataframe con los géneros más leídos y calculamos la puntuación media de dichos géneros."
   ]
  },
  {
   "cell_type": "code",
   "execution_count": 24,
   "id": "457fa2ba-8425-45fc-bf91-c4e578bbcea2",
   "metadata": {},
   "outputs": [
    {
     "data": {
      "text/html": [
       "<div>\n",
       "<style scoped>\n",
       "    .dataframe tbody tr th:only-of-type {\n",
       "        vertical-align: middle;\n",
       "    }\n",
       "\n",
       "    .dataframe tbody tr th {\n",
       "        vertical-align: top;\n",
       "    }\n",
       "\n",
       "    .dataframe thead th {\n",
       "        text-align: right;\n",
       "    }\n",
       "</style>\n",
       "<table border=\"1\" class=\"dataframe\">\n",
       "  <thead>\n",
       "    <tr style=\"text-align: right;\">\n",
       "      <th></th>\n",
       "      <th>Unnamed: 0</th>\n",
       "      <th>Book</th>\n",
       "      <th>Author</th>\n",
       "      <th>Genres</th>\n",
       "      <th>Avg_Rating</th>\n",
       "      <th>Num_Ratings</th>\n",
       "      <th>Principal_Genre</th>\n",
       "    </tr>\n",
       "  </thead>\n",
       "  <tbody>\n",
       "    <tr>\n",
       "      <th>0</th>\n",
       "      <td>0</td>\n",
       "      <td>To Kill a Mockingbird</td>\n",
       "      <td>Harper Lee</td>\n",
       "      <td>['Classics', 'Fiction', 'Historical Fiction', ...</td>\n",
       "      <td>4.27</td>\n",
       "      <td>5691311</td>\n",
       "      <td>Classics</td>\n",
       "    </tr>\n",
       "    <tr>\n",
       "      <th>1</th>\n",
       "      <td>1</td>\n",
       "      <td>Harry Potter and the Philosopher’s Stone (Harr...</td>\n",
       "      <td>J.K. Rowling</td>\n",
       "      <td>['Fantasy', 'Fiction', 'Young Adult', 'Magic',...</td>\n",
       "      <td>4.47</td>\n",
       "      <td>9278135</td>\n",
       "      <td>Fantasy</td>\n",
       "    </tr>\n",
       "    <tr>\n",
       "      <th>2</th>\n",
       "      <td>2</td>\n",
       "      <td>Pride and Prejudice</td>\n",
       "      <td>Jane Austen</td>\n",
       "      <td>['Classics', 'Fiction', 'Romance', 'Historical...</td>\n",
       "      <td>4.28</td>\n",
       "      <td>3944155</td>\n",
       "      <td>Classics</td>\n",
       "    </tr>\n",
       "    <tr>\n",
       "      <th>3</th>\n",
       "      <td>3</td>\n",
       "      <td>The Diary of a Young Girl</td>\n",
       "      <td>Anne Frank</td>\n",
       "      <td>['Classics', 'Nonfiction', 'History', 'Biograp...</td>\n",
       "      <td>4.18</td>\n",
       "      <td>3488438</td>\n",
       "      <td>Classics</td>\n",
       "    </tr>\n",
       "    <tr>\n",
       "      <th>4</th>\n",
       "      <td>4</td>\n",
       "      <td>Animal Farm</td>\n",
       "      <td>George Orwell</td>\n",
       "      <td>['Classics', 'Fiction', 'Dystopia', 'Fantasy',...</td>\n",
       "      <td>3.98</td>\n",
       "      <td>3575172</td>\n",
       "      <td>Classics</td>\n",
       "    </tr>\n",
       "    <tr>\n",
       "      <th>...</th>\n",
       "      <td>...</td>\n",
       "      <td>...</td>\n",
       "      <td>...</td>\n",
       "      <td>...</td>\n",
       "      <td>...</td>\n",
       "      <td>...</td>\n",
       "      <td>...</td>\n",
       "    </tr>\n",
       "    <tr>\n",
       "      <th>9985</th>\n",
       "      <td>9985</td>\n",
       "      <td>Finding Me: A Decade of Darkness, A life Recla...</td>\n",
       "      <td>Michelle Knight</td>\n",
       "      <td>['Nonfiction', 'True Crime', 'Memoir', 'Biogra...</td>\n",
       "      <td>4.15</td>\n",
       "      <td>26284</td>\n",
       "      <td>Nonfiction</td>\n",
       "    </tr>\n",
       "    <tr>\n",
       "      <th>9987</th>\n",
       "      <td>9987</td>\n",
       "      <td>Life at the Bottom: The Worldview That Makes t...</td>\n",
       "      <td>Theodore Dalrymple</td>\n",
       "      <td>['Nonfiction', 'Politics', 'Sociology', 'Psych...</td>\n",
       "      <td>4.24</td>\n",
       "      <td>3191</td>\n",
       "      <td>Nonfiction</td>\n",
       "    </tr>\n",
       "    <tr>\n",
       "      <th>9991</th>\n",
       "      <td>9991</td>\n",
       "      <td>The Evolution of Mara Dyer (Mara Dyer, #2)</td>\n",
       "      <td>Michelle Hodkin</td>\n",
       "      <td>['Young Adult', 'Paranormal', 'Fantasy', 'Roma...</td>\n",
       "      <td>4.26</td>\n",
       "      <td>94298</td>\n",
       "      <td>Young Adult</td>\n",
       "    </tr>\n",
       "    <tr>\n",
       "      <th>9993</th>\n",
       "      <td>9993</td>\n",
       "      <td>Call To Crusade</td>\n",
       "      <td>Tom Vetter</td>\n",
       "      <td>['Historical Fiction', 'Historical']</td>\n",
       "      <td>4.56</td>\n",
       "      <td>39</td>\n",
       "      <td>Historical Fiction</td>\n",
       "    </tr>\n",
       "    <tr>\n",
       "      <th>9997</th>\n",
       "      <td>9997</td>\n",
       "      <td>The Republic of Trees</td>\n",
       "      <td>Sam Taylor</td>\n",
       "      <td>['Fiction', 'Horror', 'Dystopia', 'Coming Of A...</td>\n",
       "      <td>3.29</td>\n",
       "      <td>383</td>\n",
       "      <td>Fiction</td>\n",
       "    </tr>\n",
       "  </tbody>\n",
       "</table>\n",
       "<p>6267 rows × 7 columns</p>\n",
       "</div>"
      ],
      "text/plain": [
       "      Unnamed: 0                                               Book  \\\n",
       "0              0                              To Kill a Mockingbird   \n",
       "1              1  Harry Potter and the Philosopher’s Stone (Harr...   \n",
       "2              2                                Pride and Prejudice   \n",
       "3              3                          The Diary of a Young Girl   \n",
       "4              4                                        Animal Farm   \n",
       "...          ...                                                ...   \n",
       "9985        9985  Finding Me: A Decade of Darkness, A life Recla...   \n",
       "9987        9987  Life at the Bottom: The Worldview That Makes t...   \n",
       "9991        9991         The Evolution of Mara Dyer (Mara Dyer, #2)   \n",
       "9993        9993                                    Call To Crusade   \n",
       "9997        9997                              The Republic of Trees   \n",
       "\n",
       "                  Author                                             Genres  \\\n",
       "0             Harper Lee  ['Classics', 'Fiction', 'Historical Fiction', ...   \n",
       "1           J.K. Rowling  ['Fantasy', 'Fiction', 'Young Adult', 'Magic',...   \n",
       "2            Jane Austen  ['Classics', 'Fiction', 'Romance', 'Historical...   \n",
       "3             Anne Frank  ['Classics', 'Nonfiction', 'History', 'Biograp...   \n",
       "4          George Orwell  ['Classics', 'Fiction', 'Dystopia', 'Fantasy',...   \n",
       "...                  ...                                                ...   \n",
       "9985     Michelle Knight  ['Nonfiction', 'True Crime', 'Memoir', 'Biogra...   \n",
       "9987  Theodore Dalrymple  ['Nonfiction', 'Politics', 'Sociology', 'Psych...   \n",
       "9991     Michelle Hodkin  ['Young Adult', 'Paranormal', 'Fantasy', 'Roma...   \n",
       "9993          Tom Vetter               ['Historical Fiction', 'Historical']   \n",
       "9997          Sam Taylor  ['Fiction', 'Horror', 'Dystopia', 'Coming Of A...   \n",
       "\n",
       "      Avg_Rating  Num_Ratings     Principal_Genre  \n",
       "0           4.27      5691311            Classics  \n",
       "1           4.47      9278135             Fantasy  \n",
       "2           4.28      3944155            Classics  \n",
       "3           4.18      3488438            Classics  \n",
       "4           3.98      3575172            Classics  \n",
       "...          ...          ...                 ...  \n",
       "9985        4.15        26284          Nonfiction  \n",
       "9987        4.24         3191          Nonfiction  \n",
       "9991        4.26        94298         Young Adult  \n",
       "9993        4.56           39  Historical Fiction  \n",
       "9997        3.29          383             Fiction  \n",
       "\n",
       "[6267 rows x 7 columns]"
      ]
     },
     "execution_count": 24,
     "metadata": {},
     "output_type": "execute_result"
    }
   ],
   "source": [
    "df_filtrado = df_goodreads[df_goodreads['Principal_Genre'].isin(cantidad_lecturas.index)]\n",
    "df_filtrado"
   ]
  },
  {
   "cell_type": "code",
   "execution_count": 25,
   "id": "a363c38b-64d9-4e60-9358-a87be0750cf1",
   "metadata": {},
   "outputs": [
    {
     "data": {
      "text/plain": [
       "Principal_Genre\n",
       "Fantasy               4.133857\n",
       "Historical Fiction    4.090577\n",
       "Nonfiction            4.068911\n",
       "Romance               4.040222\n",
       "Science Fiction       4.010062\n",
       "Mystery               3.989121\n",
       "Classics              3.976531\n",
       "Young Adult           3.969612\n",
       "Horror                3.941146\n",
       "Fiction               3.939820\n",
       "Name: Avg_Rating, dtype: float64"
      ]
     },
     "execution_count": 25,
     "metadata": {},
     "output_type": "execute_result"
    }
   ],
   "source": [
    "media_valoraciones = df_filtrado.groupby('Principal_Genre')['Avg_Rating'].mean().sort_values(ascending=False)\n",
    "media_valoraciones"
   ]
  },
  {
   "cell_type": "markdown",
   "id": "29792db1-20de-4346-9c99-2d746b7cccc7",
   "metadata": {},
   "source": [
    "### Queremos saber si existe una correlacion positiva entre generos más leidos y sus puntuaciones"
   ]
  },
  {
   "cell_type": "code",
   "execution_count": 26,
   "id": "cdcb4b41-e7f6-4c03-b405-ef9f71a86136",
   "metadata": {},
   "outputs": [
    {
     "data": {
      "text/plain": [
       "<Axes: xlabel='Num_Ratings', ylabel='Avg_Rating'>"
      ]
     },
     "execution_count": 26,
     "metadata": {},
     "output_type": "execute_result"
    },
    {
     "data": {
      "image/png": "[encoded data removed]",
      "text/plain": [
       "<Figure size 1000x600 with 1 Axes>"
      ]
     },
     "metadata": {},
     "output_type": "display_data"
    }
   ],
   "source": [
    "plt.figure(figsize=(10, 6))\n",
    "sns.scatterplot(data=df_filtrado, x='Num_Ratings', y='Avg_Rating', hue='Principal_Genre', palette='Set2', s=100)"
   ]
  },
  {
   "cell_type": "code",
   "execution_count": 28,
   "id": "88b868ea-8a56-4e01-813c-ba06800a08b3",
   "metadata": {},
   "outputs": [
    {
     "data": {
      "text/html": [
       "<div>\n",
       "<style scoped>\n",
       "    .dataframe tbody tr th:only-of-type {\n",
       "        vertical-align: middle;\n",
       "    }\n",
       "\n",
       "    .dataframe tbody tr th {\n",
       "        vertical-align: top;\n",
       "    }\n",
       "\n",
       "    .dataframe thead th {\n",
       "        text-align: right;\n",
       "    }\n",
       "</style>\n",
       "<table border=\"1\" class=\"dataframe\">\n",
       "  <thead>\n",
       "    <tr style=\"text-align: right;\">\n",
       "      <th></th>\n",
       "      <th>Avg_Rating</th>\n",
       "      <th>Num_Ratings</th>\n",
       "    </tr>\n",
       "    <tr>\n",
       "      <th>Principal_Genre</th>\n",
       "      <th></th>\n",
       "      <th></th>\n",
       "    </tr>\n",
       "  </thead>\n",
       "  <tbody>\n",
       "    <tr>\n",
       "      <th>Classics</th>\n",
       "      <td>3.976531</td>\n",
       "      <td>129712984</td>\n",
       "    </tr>\n",
       "    <tr>\n",
       "      <th>Fantasy</th>\n",
       "      <td>4.133857</td>\n",
       "      <td>173531391</td>\n",
       "    </tr>\n",
       "    <tr>\n",
       "      <th>Fiction</th>\n",
       "      <td>3.939820</td>\n",
       "      <td>175578778</td>\n",
       "    </tr>\n",
       "    <tr>\n",
       "      <th>Historical Fiction</th>\n",
       "      <td>4.090577</td>\n",
       "      <td>43641973</td>\n",
       "    </tr>\n",
       "    <tr>\n",
       "      <th>Horror</th>\n",
       "      <td>3.941146</td>\n",
       "      <td>19843638</td>\n",
       "    </tr>\n",
       "    <tr>\n",
       "      <th>Mystery</th>\n",
       "      <td>3.989121</td>\n",
       "      <td>29246027</td>\n",
       "    </tr>\n",
       "    <tr>\n",
       "      <th>Nonfiction</th>\n",
       "      <td>4.068911</td>\n",
       "      <td>69348101</td>\n",
       "    </tr>\n",
       "    <tr>\n",
       "      <th>Romance</th>\n",
       "      <td>4.040222</td>\n",
       "      <td>37869952</td>\n",
       "    </tr>\n",
       "    <tr>\n",
       "      <th>Science Fiction</th>\n",
       "      <td>4.010062</td>\n",
       "      <td>29504390</td>\n",
       "    </tr>\n",
       "    <tr>\n",
       "      <th>Young Adult</th>\n",
       "      <td>3.969612</td>\n",
       "      <td>119870102</td>\n",
       "    </tr>\n",
       "  </tbody>\n",
       "</table>\n",
       "</div>"
      ],
      "text/plain": [
       "                    Avg_Rating  Num_Ratings\n",
       "Principal_Genre                            \n",
       "Classics              3.976531    129712984\n",
       "Fantasy               4.133857    173531391\n",
       "Fiction               3.939820    175578778\n",
       "Historical Fiction    4.090577     43641973\n",
       "Horror                3.941146     19843638\n",
       "Mystery               3.989121     29246027\n",
       "Nonfiction            4.068911     69348101\n",
       "Romance               4.040222     37869952\n",
       "Science Fiction       4.010062     29504390\n",
       "Young Adult           3.969612    119870102"
      ]
     },
     "execution_count": 28,
     "metadata": {},
     "output_type": "execute_result"
    }
   ],
   "source": [
    "# 1. Creamos un gráfico que una los generos más leidos y la media de valoraciones.\n",
    "df_agg = pd.DataFrame({\n",
    "    'Avg_Rating': media_valoraciones,\n",
    "    'Num_Ratings': cantidad_lecturas})\n",
    "\n",
    "df_agg"
   ]
  },
  {
   "cell_type": "code",
   "execution_count": 29,
   "id": "506c38aa-10e6-445a-a447-308c4d408084",
   "metadata": {},
   "outputs": [
    {
     "data": {
      "image/png": "[encoded data removed]",
      "text/plain": [
       "<Figure size 1000x600 with 1 Axes>"
      ]
     },
     "metadata": {},
     "output_type": "display_data"
    }
   ],
   "source": [
    "# 2. Creamos el diagrama de dispersión.\n",
    "plt.figure(figsize=(10, 6))\n",
    "sns.scatterplot(data=df_agg, x='Num_Ratings', y='Avg_Rating', hue=df_agg.index, palette='Set2', s=100)\n",
    "plt.xlabel('Cantidad de Lecturas', fontsize=12)\n",
    "plt.ylabel('Puntuación Media', fontsize=12);"
   ]
  },
  {
   "cell_type": "code",
   "execution_count": null,
   "id": "f44934b9-e354-46fa-b23a-f4ca7e6947c5",
   "metadata": {},
   "outputs": [],
   "source": []
  },
  {
   "cell_type": "code",
   "execution_count": 30,
   "id": "c144483b-8909-4fbb-b526-6f0221568dbd",
   "metadata": {},
   "outputs": [
    {
     "data": {
      "image/png": "[encoded data removed]",
      "text/plain": [
       "<Figure size 640x480 with 1 Axes>"
      ]
     },
     "metadata": {},
     "output_type": "display_data"
    }
   ],
   "source": [
    "df_agg = df_agg.reset_index()\n",
    "df_agg.sort_values('Num_Ratings', ascending=False).plot(kind='bar', x='Principal_Genre', y='Avg_Rating', legend=False, color='brown')\n",
    "plt.title('Comparación de Puntuación Media según Géneros Más Leídos')\n",
    "plt.xlabel('Género')\n",
    "plt.ylabel('Puntuación Media')\n",
    "plt.xticks(rotation=45)\n",
    "plt.tight_layout()\n",
    "plt.show()\n"
   ]
  },
  {
   "cell_type": "markdown",
   "id": "719cb30d-9f96-46c9-8ab7-a03850d2553b",
   "metadata": {},
   "source": [
    "### Observamos que géneros como 'Horror' son menos leídos y también peor puntuados al contrario que 'Fantasy' que es el género más leído y también el mejor puntuado"
   ]
  },
  {
   "cell_type": "markdown",
   "id": "a6462a35-a483-4f32-bb26-6d20913e3cef",
   "metadata": {},
   "source": [
    "### Además encontramos dos claros grupos, los que son leidos por mas de 100 millones de personas y los que no,\n",
    "#### En el primer grupo destaca el género 'Horror' como el peor puntuado y el menos leído. Por otro lado, 'Historical Fiction' y Nonfiction' son los más leídos y los mejores puntuados.\n",
    "\n",
    "### En el segundo grupo destaca 'Fantasy como el género más leído y mejor puntuado'.\n",
    "#### En este grupo encontramos que excepto el género anterior se puntuan mucho peor, tal y como sucede con'Fiction' que es el más leído de todos y el peor puntuado."
   ]
  },
  {
   "cell_type": "markdown",
   "id": "fcb6bb02-c927-4b3d-964b-d9daa55465ae",
   "metadata": {},
   "source": [
    "Podemos mirar relaciones entre autores y mejores puntuaciones o que autores tienen mas publicaciones"
   ]
  },
  {
   "cell_type": "code",
   "execution_count": null,
   "id": "8897c29e-bfa2-4453-b7e7-4aa983736a77",
   "metadata": {},
   "outputs": [],
   "source": []
  }
 ],
 "metadata": {
  "kernelspec": {
   "display_name": "Python 3 (ipykernel)",
   "language": "python",
   "name": "python3"
  },
  "language_info": {
   "codemirror_mode": {
    "name": "ipython",
    "version": 3
   },
   "file_extension": ".py",
   "mimetype": "text/x-python",
   "name": "python",
   "nbconvert_exporter": "python",
   "pygments_lexer": "ipython3",
   "version": "3.13.0"
  }
 },
 "nbformat": 4,
 "nbformat_minor": 5
}
