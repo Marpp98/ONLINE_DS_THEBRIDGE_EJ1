{
 "cells": [
  {
   "cell_type": "code",
   "execution_count": 1,
   "id": "1c9d536f-6cb5-4d26-917c-fb2fba9da693",
   "metadata": {},
   "outputs": [
    {
     "name": "stdout",
     "output_type": "stream",
     "text": [
      "Hola Mundo\n"
     ]
    }
   ],
   "source": [
    "print(\"Hola Mundo\")"
   ]
  },
  {
   "cell_type": "markdown",
   "id": "54253e7c-d091-4e66-9005-db1c84cc5ee4",
   "metadata": {},
   "source": [
    "Hola Mundo "
   ]
  },
  {
   "cell_type": "code",
   "execution_count": null,
   "id": "b58b1cfa-d76e-4c0e-95b6-d87636f59fa7",
   "metadata": {},
   "outputs": [],
   "source": []
  }
 ],
 "metadata": {
  "kernelspec": {
   "display_name": "Python 3 (ipykernel)",
   "language": "python",
   "name": "python3"
  },
  "language_info": {
   "codemirror_mode": {
    "name": "ipython",
    "version": 3
   },
   "file_extension": ".py",
   "mimetype": "text/x-python",
   "name": "python",
   "nbconvert_exporter": "python",
   "pygments_lexer": "ipython3",
   "version": "3.13.0"
  }
 },
 "nbformat": 4,
 "nbformat_minor": 5
}
